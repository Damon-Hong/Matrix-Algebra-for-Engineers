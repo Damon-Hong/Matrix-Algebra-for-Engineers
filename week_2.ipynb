{
 "cells": [
  {
   "cell_type": "code",
   "execution_count": 70,
   "id": "9783464b-d656-49c9-bfd7-50da19d3e3cf",
   "metadata": {},
   "outputs": [],
   "source": [
    "import numpy as np\n",
    "import sympy as sy \n",
    "from scipy import linalg"
   ]
  },
  {
   "cell_type": "markdown",
   "id": "a9847096-d146-414d-9e84-ff5ed1bc2562",
   "metadata": {},
   "source": [
    "# Lecture 10: Gaussian Elimination"
   ]
  },
  {
   "cell_type": "markdown",
   "id": "66ab6fde-e5ea-47d6-a62e-09ab872f7c16",
   "metadata": {},
   "source": [
    "# Lecture 11: Reduced Row Echelon Form (RREF)"
   ]
  },
  {
   "cell_type": "code",
   "execution_count": 7,
   "id": "757ac583-4305-4c68-9856-bb1142b29315",
   "metadata": {},
   "outputs": [
    {
     "data": {
      "text/latex": [
       "$\\displaystyle \\left[\\begin{array}{cccc}A_{0, 0} & A_{0, 1} & A_{0, 2} & A_{0, 3}\\\\A_{1, 0} & A_{1, 1} & A_{1, 2} & A_{1, 3}\\\\A_{2, 0} & A_{2, 1} & A_{2, 2} & A_{2, 3}\\end{array}\\right]$"
      ],
      "text/plain": [
       "Matrix([\n",
       "[A[0, 0], A[0, 1], A[0, 2], A[0, 3]],\n",
       "[A[1, 0], A[1, 1], A[1, 2], A[1, 3]],\n",
       "[A[2, 0], A[2, 1], A[2, 2], A[2, 3]]])"
      ]
     },
     "execution_count": 7,
     "metadata": {},
     "output_type": "execute_result"
    }
   ],
   "source": [
    "A = sy.MatrixSymbol(\"A\", 3, 4)\n",
    "sy.Matrix(A)"
   ]
  },
  {
   "cell_type": "code",
   "execution_count": 9,
   "id": "5d2a3f17-83ac-43de-99c3-30da2651b2a5",
   "metadata": {},
   "outputs": [
    {
     "data": {
      "text/latex": [
       "$\\displaystyle \\left[\\begin{matrix}1 & 0 & 0 & \\frac{A_{0, 1} A_{1, 2} A_{2, 3} - A_{0, 1} A_{1, 3} A_{2, 2} - A_{0, 2} A_{1, 1} A_{2, 3} + A_{0, 2} A_{1, 3} A_{2, 1} + A_{0, 3} A_{1, 1} A_{2, 2} - A_{0, 3} A_{1, 2} A_{2, 1}}{A_{0, 0} A_{1, 1} A_{2, 2} - A_{0, 0} A_{1, 2} A_{2, 1} - A_{0, 1} A_{1, 0} A_{2, 2} + A_{0, 1} A_{1, 2} A_{2, 0} + A_{0, 2} A_{1, 0} A_{2, 1} - A_{0, 2} A_{1, 1} A_{2, 0}}\\\\0 & 1 & 0 & \\frac{- A_{0, 0} A_{1, 2} A_{2, 3} + A_{0, 0} A_{1, 3} A_{2, 2} + A_{0, 2} A_{1, 0} A_{2, 3} - A_{0, 2} A_{1, 3} A_{2, 0} - A_{0, 3} A_{1, 0} A_{2, 2} + A_{0, 3} A_{1, 2} A_{2, 0}}{A_{0, 0} A_{1, 1} A_{2, 2} - A_{0, 0} A_{1, 2} A_{2, 1} - A_{0, 1} A_{1, 0} A_{2, 2} + A_{0, 1} A_{1, 2} A_{2, 0} + A_{0, 2} A_{1, 0} A_{2, 1} - A_{0, 2} A_{1, 1} A_{2, 0}}\\\\0 & 0 & 1 & \\frac{A_{0, 0} A_{1, 1} A_{2, 3} - A_{0, 0} A_{1, 3} A_{2, 1} - A_{0, 1} A_{1, 0} A_{2, 3} + A_{0, 1} A_{1, 3} A_{2, 0} + A_{0, 3} A_{1, 0} A_{2, 1} - A_{0, 3} A_{1, 1} A_{2, 0}}{A_{0, 0} A_{1, 1} A_{2, 2} - A_{0, 0} A_{1, 2} A_{2, 1} - A_{0, 1} A_{1, 0} A_{2, 2} + A_{0, 1} A_{1, 2} A_{2, 0} + A_{0, 2} A_{1, 0} A_{2, 1} - A_{0, 2} A_{1, 1} A_{2, 0}}\\end{matrix}\\right]$"
      ],
      "text/plain": [
       "Matrix([\n",
       "[1, 0, 0,  (A[0, 1]*A[1, 2]*A[2, 3] - A[0, 1]*A[1, 3]*A[2, 2] - A[0, 2]*A[1, 1]*A[2, 3] + A[0, 2]*A[1, 3]*A[2, 1] + A[0, 3]*A[1, 1]*A[2, 2] - A[0, 3]*A[1, 2]*A[2, 1])/(A[0, 0]*A[1, 1]*A[2, 2] - A[0, 0]*A[1, 2]*A[2, 1] - A[0, 1]*A[1, 0]*A[2, 2] + A[0, 1]*A[1, 2]*A[2, 0] + A[0, 2]*A[1, 0]*A[2, 1] - A[0, 2]*A[1, 1]*A[2, 0])],\n",
       "[0, 1, 0, (-A[0, 0]*A[1, 2]*A[2, 3] + A[0, 0]*A[1, 3]*A[2, 2] + A[0, 2]*A[1, 0]*A[2, 3] - A[0, 2]*A[1, 3]*A[2, 0] - A[0, 3]*A[1, 0]*A[2, 2] + A[0, 3]*A[1, 2]*A[2, 0])/(A[0, 0]*A[1, 1]*A[2, 2] - A[0, 0]*A[1, 2]*A[2, 1] - A[0, 1]*A[1, 0]*A[2, 2] + A[0, 1]*A[1, 2]*A[2, 0] + A[0, 2]*A[1, 0]*A[2, 1] - A[0, 2]*A[1, 1]*A[2, 0])],\n",
       "[0, 0, 1,  (A[0, 0]*A[1, 1]*A[2, 3] - A[0, 0]*A[1, 3]*A[2, 1] - A[0, 1]*A[1, 0]*A[2, 3] + A[0, 1]*A[1, 3]*A[2, 0] + A[0, 3]*A[1, 0]*A[2, 1] - A[0, 3]*A[1, 1]*A[2, 0])/(A[0, 0]*A[1, 1]*A[2, 2] - A[0, 0]*A[1, 2]*A[2, 1] - A[0, 1]*A[1, 0]*A[2, 2] + A[0, 1]*A[1, 2]*A[2, 0] + A[0, 2]*A[1, 0]*A[2, 1] - A[0, 2]*A[1, 1]*A[2, 0])]])"
      ]
     },
     "execution_count": 9,
     "metadata": {},
     "output_type": "execute_result"
    }
   ],
   "source": [
    "sy.Matrix(A).rref()[0]"
   ]
  },
  {
   "cell_type": "code",
   "execution_count": 12,
   "id": "35cd2db1-44f5-45fb-b86f-6cd52d33b459",
   "metadata": {},
   "outputs": [
    {
     "data": {
      "text/latex": [
       "$\\displaystyle \\left[\\begin{matrix}1 & 0 & 0 & 3\\\\0 & 1 & 0 & 4\\\\0 & 0 & 1 & -6\\end{matrix}\\right]$"
      ],
      "text/plain": [
       "Matrix([\n",
       "[1, 0, 0,  3],\n",
       "[0, 1, 0,  4],\n",
       "[0, 0, 1, -6]])"
      ]
     },
     "execution_count": 12,
     "metadata": {},
     "output_type": "execute_result"
    }
   ],
   "source": [
    "# An example\n",
    "A = np.array([[3, -7, -2, -7], \n",
    "              [-3, 5, 1, 5],\n",
    "              [6, -4, 0, 2]])\n",
    "sy.Matrix(A).rref()[0]"
   ]
  },
  {
   "cell_type": "code",
   "execution_count": 16,
   "id": "38b94174-e0d9-43c2-b251-d5cf66ec1f23",
   "metadata": {},
   "outputs": [
    {
     "data": {
      "text/latex": [
       "$\\displaystyle \\left[\\begin{matrix}1 & 2 & 0\\\\0 & 0 & 1\\\\0 & 0 & 0\\end{matrix}\\right]$"
      ],
      "text/plain": [
       "Matrix([\n",
       "[1, 2, 0],\n",
       "[0, 0, 1],\n",
       "[0, 0, 0]])"
      ]
     },
     "execution_count": 16,
     "metadata": {},
     "output_type": "execute_result"
    }
   ],
   "source": [
    "# Another example\n",
    "B = np.array([[1, 2, 1], \n",
    "              [2, 4, 1], \n",
    "              [3, 6, 2]])\n",
    "sy.Matrix(B).rref()[0]"
   ]
  },
  {
   "cell_type": "markdown",
   "id": "40abaada-cd11-452d-a7eb-3275f05e40db",
   "metadata": {},
   "source": [
    "# Lecture 12: Computing Inverses"
   ]
  },
  {
   "cell_type": "markdown",
   "id": "e48dbec4-43f4-48a7-a0e5-84d08ede2d84",
   "metadata": {},
   "source": [
    "Refer to 6.1 in week 1"
   ]
  },
  {
   "cell_type": "code",
   "execution_count": 18,
   "id": "4488f4fb-b01b-44ec-a2be-666c1a7ddaaa",
   "metadata": {},
   "outputs": [
    {
     "data": {
      "text/latex": [
       "$\\displaystyle \\left[\\begin{array}{ccc}A_{0, 0} & A_{0, 1} & A_{0, 2}\\\\A_{1, 0} & A_{1, 1} & A_{1, 2}\\\\A_{2, 0} & A_{2, 1} & A_{2, 2}\\end{array}\\right]$"
      ],
      "text/plain": [
       "Matrix([\n",
       "[A[0, 0], A[0, 1], A[0, 2]],\n",
       "[A[1, 0], A[1, 1], A[1, 2]],\n",
       "[A[2, 0], A[2, 1], A[2, 2]]])"
      ]
     },
     "execution_count": 18,
     "metadata": {},
     "output_type": "execute_result"
    }
   ],
   "source": [
    "A = sy.MatrixSymbol(\"A\", 3, 3)\n",
    "sy.Matrix(A)"
   ]
  },
  {
   "cell_type": "code",
   "execution_count": 22,
   "id": "ffad1e82-a401-47e1-87e5-9a3c3e0d9776",
   "metadata": {},
   "outputs": [
    {
     "data": {
      "text/latex": [
       "$\\displaystyle \\left[\\begin{matrix}A_{0, 0} & A_{0, 1} & A_{0, 2} & 1.0 & 0 & 0\\\\A_{1, 0} & A_{1, 1} & A_{1, 2} & 0 & 1.0 & 0\\\\A_{2, 0} & A_{2, 1} & A_{2, 2} & 0 & 0 & 1.0\\end{matrix}\\right]$"
      ],
      "text/plain": [
       "Matrix([\n",
       "[A[0, 0], A[0, 1], A[0, 2], 1.0,   0,   0],\n",
       "[A[1, 0], A[1, 1], A[1, 2],   0, 1.0,   0],\n",
       "[A[2, 0], A[2, 1], A[2, 2],   0,   0, 1.0]])"
      ]
     },
     "execution_count": 22,
     "metadata": {},
     "output_type": "execute_result"
    }
   ],
   "source": [
    "Augmented = sy.Matrix(np.hstack((A, np.eye(3))))\n",
    "Augmented"
   ]
  },
  {
   "cell_type": "code",
   "execution_count": 23,
   "id": "aba88b18-9c91-4c6e-811a-1f017530fc32",
   "metadata": {},
   "outputs": [
    {
     "data": {
      "text/latex": [
       "$\\displaystyle \\left[\\begin{matrix}1 & 0 & 0 & \\frac{1.0 A_{1, 1} A_{2, 2} - 1.0 A_{1, 2} A_{2, 1}}{1.0 A_{0, 0} A_{1, 1} A_{2, 2} - 1.0 A_{0, 0} A_{1, 2} A_{2, 1} - 1.0 A_{0, 1} A_{1, 0} A_{2, 2} + 1.0 A_{0, 1} A_{1, 2} A_{2, 0} + 1.0 A_{0, 2} A_{1, 0} A_{2, 1} - 1.0 A_{0, 2} A_{1, 1} A_{2, 0}} & \\frac{- 1.0 A_{0, 1} A_{2, 2} + 1.0 A_{0, 2} A_{2, 1}}{1.0 A_{0, 0} A_{1, 1} A_{2, 2} - 1.0 A_{0, 0} A_{1, 2} A_{2, 1} - 1.0 A_{0, 1} A_{1, 0} A_{2, 2} + 1.0 A_{0, 1} A_{1, 2} A_{2, 0} + 1.0 A_{0, 2} A_{1, 0} A_{2, 1} - 1.0 A_{0, 2} A_{1, 1} A_{2, 0}} & \\frac{1.0 A_{0, 1} A_{1, 2} - 1.0 A_{0, 2} A_{1, 1}}{1.0 A_{0, 0} A_{1, 1} A_{2, 2} - 1.0 A_{0, 0} A_{1, 2} A_{2, 1} - 1.0 A_{0, 1} A_{1, 0} A_{2, 2} + 1.0 A_{0, 1} A_{1, 2} A_{2, 0} + 1.0 A_{0, 2} A_{1, 0} A_{2, 1} - 1.0 A_{0, 2} A_{1, 1} A_{2, 0}}\\\\0 & 1 & 0 & \\frac{- 1.0 A_{1, 0} A_{2, 2} + 1.0 A_{1, 2} A_{2, 0}}{1.0 A_{0, 0} A_{1, 1} A_{2, 2} - 1.0 A_{0, 0} A_{1, 2} A_{2, 1} - 1.0 A_{0, 1} A_{1, 0} A_{2, 2} + 1.0 A_{0, 1} A_{1, 2} A_{2, 0} + 1.0 A_{0, 2} A_{1, 0} A_{2, 1} - 1.0 A_{0, 2} A_{1, 1} A_{2, 0}} & \\frac{1.0 A_{0, 0} A_{2, 2} - 1.0 A_{0, 2} A_{2, 0}}{1.0 A_{0, 0} A_{1, 1} A_{2, 2} - 1.0 A_{0, 0} A_{1, 2} A_{2, 1} - 1.0 A_{0, 1} A_{1, 0} A_{2, 2} + 1.0 A_{0, 1} A_{1, 2} A_{2, 0} + 1.0 A_{0, 2} A_{1, 0} A_{2, 1} - 1.0 A_{0, 2} A_{1, 1} A_{2, 0}} & \\frac{- 1.0 A_{0, 0} A_{1, 2} + 1.0 A_{0, 2} A_{1, 0}}{1.0 A_{0, 0} A_{1, 1} A_{2, 2} - 1.0 A_{0, 0} A_{1, 2} A_{2, 1} - 1.0 A_{0, 1} A_{1, 0} A_{2, 2} + 1.0 A_{0, 1} A_{1, 2} A_{2, 0} + 1.0 A_{0, 2} A_{1, 0} A_{2, 1} - 1.0 A_{0, 2} A_{1, 1} A_{2, 0}}\\\\0 & 0 & 1 & \\frac{1.0 A_{1, 0} A_{2, 1} - 1.0 A_{1, 1} A_{2, 0}}{1.0 A_{0, 0} A_{1, 1} A_{2, 2} - 1.0 A_{0, 0} A_{1, 2} A_{2, 1} - 1.0 A_{0, 1} A_{1, 0} A_{2, 2} + 1.0 A_{0, 1} A_{1, 2} A_{2, 0} + 1.0 A_{0, 2} A_{1, 0} A_{2, 1} - 1.0 A_{0, 2} A_{1, 1} A_{2, 0}} & \\frac{- 1.0 A_{0, 0} A_{2, 1} + 1.0 A_{0, 1} A_{2, 0}}{1.0 A_{0, 0} A_{1, 1} A_{2, 2} - 1.0 A_{0, 0} A_{1, 2} A_{2, 1} - 1.0 A_{0, 1} A_{1, 0} A_{2, 2} + 1.0 A_{0, 1} A_{1, 2} A_{2, 0} + 1.0 A_{0, 2} A_{1, 0} A_{2, 1} - 1.0 A_{0, 2} A_{1, 1} A_{2, 0}} & \\frac{1.0 A_{0, 0} A_{1, 1} - 1.0 A_{0, 1} A_{1, 0}}{1.0 A_{0, 0} A_{1, 1} A_{2, 2} - 1.0 A_{0, 0} A_{1, 2} A_{2, 1} - 1.0 A_{0, 1} A_{1, 0} A_{2, 2} + 1.0 A_{0, 1} A_{1, 2} A_{2, 0} + 1.0 A_{0, 2} A_{1, 0} A_{2, 1} - 1.0 A_{0, 2} A_{1, 1} A_{2, 0}}\\end{matrix}\\right]$"
      ],
      "text/plain": [
       "Matrix([\n",
       "[1, 0, 0,  (1.0*A[1, 1]*A[2, 2] - 1.0*A[1, 2]*A[2, 1])/(1.0*A[0, 0]*A[1, 1]*A[2, 2] - 1.0*A[0, 0]*A[1, 2]*A[2, 1] - 1.0*A[0, 1]*A[1, 0]*A[2, 2] + 1.0*A[0, 1]*A[1, 2]*A[2, 0] + 1.0*A[0, 2]*A[1, 0]*A[2, 1] - 1.0*A[0, 2]*A[1, 1]*A[2, 0]), (-1.0*A[0, 1]*A[2, 2] + 1.0*A[0, 2]*A[2, 1])/(1.0*A[0, 0]*A[1, 1]*A[2, 2] - 1.0*A[0, 0]*A[1, 2]*A[2, 1] - 1.0*A[0, 1]*A[1, 0]*A[2, 2] + 1.0*A[0, 1]*A[1, 2]*A[2, 0] + 1.0*A[0, 2]*A[1, 0]*A[2, 1] - 1.0*A[0, 2]*A[1, 1]*A[2, 0]),  (1.0*A[0, 1]*A[1, 2] - 1.0*A[0, 2]*A[1, 1])/(1.0*A[0, 0]*A[1, 1]*A[2, 2] - 1.0*A[0, 0]*A[1, 2]*A[2, 1] - 1.0*A[0, 1]*A[1, 0]*A[2, 2] + 1.0*A[0, 1]*A[1, 2]*A[2, 0] + 1.0*A[0, 2]*A[1, 0]*A[2, 1] - 1.0*A[0, 2]*A[1, 1]*A[2, 0])],\n",
       "[0, 1, 0, (-1.0*A[1, 0]*A[2, 2] + 1.0*A[1, 2]*A[2, 0])/(1.0*A[0, 0]*A[1, 1]*A[2, 2] - 1.0*A[0, 0]*A[1, 2]*A[2, 1] - 1.0*A[0, 1]*A[1, 0]*A[2, 2] + 1.0*A[0, 1]*A[1, 2]*A[2, 0] + 1.0*A[0, 2]*A[1, 0]*A[2, 1] - 1.0*A[0, 2]*A[1, 1]*A[2, 0]),  (1.0*A[0, 0]*A[2, 2] - 1.0*A[0, 2]*A[2, 0])/(1.0*A[0, 0]*A[1, 1]*A[2, 2] - 1.0*A[0, 0]*A[1, 2]*A[2, 1] - 1.0*A[0, 1]*A[1, 0]*A[2, 2] + 1.0*A[0, 1]*A[1, 2]*A[2, 0] + 1.0*A[0, 2]*A[1, 0]*A[2, 1] - 1.0*A[0, 2]*A[1, 1]*A[2, 0]), (-1.0*A[0, 0]*A[1, 2] + 1.0*A[0, 2]*A[1, 0])/(1.0*A[0, 0]*A[1, 1]*A[2, 2] - 1.0*A[0, 0]*A[1, 2]*A[2, 1] - 1.0*A[0, 1]*A[1, 0]*A[2, 2] + 1.0*A[0, 1]*A[1, 2]*A[2, 0] + 1.0*A[0, 2]*A[1, 0]*A[2, 1] - 1.0*A[0, 2]*A[1, 1]*A[2, 0])],\n",
       "[0, 0, 1,  (1.0*A[1, 0]*A[2, 1] - 1.0*A[1, 1]*A[2, 0])/(1.0*A[0, 0]*A[1, 1]*A[2, 2] - 1.0*A[0, 0]*A[1, 2]*A[2, 1] - 1.0*A[0, 1]*A[1, 0]*A[2, 2] + 1.0*A[0, 1]*A[1, 2]*A[2, 0] + 1.0*A[0, 2]*A[1, 0]*A[2, 1] - 1.0*A[0, 2]*A[1, 1]*A[2, 0]), (-1.0*A[0, 0]*A[2, 1] + 1.0*A[0, 1]*A[2, 0])/(1.0*A[0, 0]*A[1, 1]*A[2, 2] - 1.0*A[0, 0]*A[1, 2]*A[2, 1] - 1.0*A[0, 1]*A[1, 0]*A[2, 2] + 1.0*A[0, 1]*A[1, 2]*A[2, 0] + 1.0*A[0, 2]*A[1, 0]*A[2, 1] - 1.0*A[0, 2]*A[1, 1]*A[2, 0]),  (1.0*A[0, 0]*A[1, 1] - 1.0*A[0, 1]*A[1, 0])/(1.0*A[0, 0]*A[1, 1]*A[2, 2] - 1.0*A[0, 0]*A[1, 2]*A[2, 1] - 1.0*A[0, 1]*A[1, 0]*A[2, 2] + 1.0*A[0, 1]*A[1, 2]*A[2, 0] + 1.0*A[0, 2]*A[1, 0]*A[2, 1] - 1.0*A[0, 2]*A[1, 1]*A[2, 0])]])"
      ]
     },
     "execution_count": 23,
     "metadata": {},
     "output_type": "execute_result"
    }
   ],
   "source": [
    "Augmented.rref()[0]"
   ]
  },
  {
   "cell_type": "code",
   "execution_count": 26,
   "id": "5af5c0b3-d0ae-44ac-a2e2-55a7ce1f51ef",
   "metadata": {},
   "outputs": [
    {
     "data": {
      "text/plain": [
       "array([[ 3., -7., -2.,  1.,  0.,  0.],\n",
       "       [-3.,  5.,  1.,  0.,  1.,  0.],\n",
       "       [ 6., -4.,  0.,  0.,  0.,  1.]])"
      ]
     },
     "execution_count": 26,
     "metadata": {},
     "output_type": "execute_result"
    }
   ],
   "source": [
    "# An example\n",
    "A = np.array([[3, -7, -2],\n",
    "              [-3, 5, 1],\n",
    "              [6, -4, 0]])\n",
    "B = np.hstack((A, np.eye(3)))\n",
    "B"
   ]
  },
  {
   "cell_type": "code",
   "execution_count": 27,
   "id": "e62203ba-f304-40f3-b4eb-ae5ad93c5c4c",
   "metadata": {},
   "outputs": [
    {
     "data": {
      "text/latex": [
       "$\\displaystyle \\left[\\begin{matrix}3.0 & -7.0 & -2.0 & 1.0 & 0 & 0\\\\-3.0 & 5.0 & 1.0 & 0 & 1.0 & 0\\\\6.0 & -4.0 & 0 & 0 & 0 & 1.0\\end{matrix}\\right]$"
      ],
      "text/plain": [
       "Matrix([\n",
       "[ 3.0, -7.0, -2.0, 1.0,   0,   0],\n",
       "[-3.0,  5.0,  1.0,   0, 1.0,   0],\n",
       "[ 6.0, -4.0,    0,   0,   0, 1.0]])"
      ]
     },
     "execution_count": 27,
     "metadata": {},
     "output_type": "execute_result"
    }
   ],
   "source": [
    "sy.Matrix(B)"
   ]
  },
  {
   "cell_type": "code",
   "execution_count": 28,
   "id": "f2132e9d-78c6-4df1-8d69-5f77414a8a21",
   "metadata": {},
   "outputs": [
    {
     "data": {
      "text/latex": [
       "$\\displaystyle \\left[\\begin{matrix}1 & 0 & 0 & 0.666666666666667 & 1.33333333333333 & 0.5\\\\0 & 1 & 0 & 1.0 & 2.0 & 0.5\\\\0 & 0 & 1 & -3.0 & -5.0 & -1.0\\end{matrix}\\right]$"
      ],
      "text/plain": [
       "Matrix([\n",
       "[1, 0, 0, 0.666666666666667, 1.33333333333333,  0.5],\n",
       "[0, 1, 0,               1.0,              2.0,  0.5],\n",
       "[0, 0, 1,              -3.0,             -5.0, -1.0]])"
      ]
     },
     "execution_count": 28,
     "metadata": {},
     "output_type": "execute_result"
    }
   ],
   "source": [
    "sy.Matrix(B).rref()[0]"
   ]
  },
  {
   "cell_type": "markdown",
   "id": "b869ca57-a1a7-470b-9183-1502f665ccc1",
   "metadata": {},
   "source": [
    "# Lecture 13: Elementary Matrices"
   ]
  },
  {
   "cell_type": "markdown",
   "id": "56763baf-0c1a-469e-8ab7-d6b65a540946",
   "metadata": {},
   "source": [
    "# Lecture 14: LU Decomposition"
   ]
  },
  {
   "cell_type": "markdown",
   "id": "afff10c5-e25f-4945-b5cb-d7319305d471",
   "metadata": {},
   "source": [
    "$$M_{3}M_{2}M_{1}A = U$$\n",
    "$$ A = M_{1}^{-1}M_{2}^{-1}M_{3}^{-1}U $$\n",
    "where $L = M_{1}^{-1}M_{2}^{-1}M_{3}^{-1}$, then,\n",
    "$$ A = LU $$\n"
   ]
  },
  {
   "cell_type": "code",
   "execution_count": 29,
   "id": "d9d32026-4d23-43d4-80ca-f85baedad42d",
   "metadata": {},
   "outputs": [
    {
     "data": {
      "text/plain": [
       "array([[ 1,  0,  0],\n",
       "       [ 2,  1,  0],\n",
       "       [-1, -1,  1]])"
      ]
     },
     "execution_count": 29,
     "metadata": {},
     "output_type": "execute_result"
    }
   ],
   "source": [
    "A = np.array([[1, 0, 0],\n",
    "              [2, 1, 0],\n",
    "              [-1, -1, 1]])\n",
    "A"
   ]
  },
  {
   "cell_type": "code",
   "execution_count": 31,
   "id": "85470361-aef4-4ac5-afa1-7507ac242193",
   "metadata": {},
   "outputs": [
    {
     "data": {
      "text/plain": [
       "array([[ 1.,  0.,  0.],\n",
       "       [-2.,  1., -0.],\n",
       "       [-1.,  1.,  1.]])"
      ]
     },
     "execution_count": 31,
     "metadata": {},
     "output_type": "execute_result"
    }
   ],
   "source": [
    "np.linalg.inv(A)"
   ]
  },
  {
   "cell_type": "code",
   "execution_count": 63,
   "id": "88a0d2ca-7dd8-432c-9230-9b4fdc920ba7",
   "metadata": {},
   "outputs": [],
   "source": [
    "# an example\n",
    "B = np.array([[-3, 2, -1],\n",
    "              [6, -6, 7],\n",
    "              [3, -4, 4]])"
   ]
  },
  {
   "cell_type": "code",
   "execution_count": 60,
   "id": "9d5d7f6a-3175-492e-af04-c4fc5d1c885e",
   "metadata": {},
   "outputs": [],
   "source": [
    "L,U = linalg.lu(B, permute_l=True)"
   ]
  },
  {
   "cell_type": "code",
   "execution_count": 61,
   "id": "035b0139-8850-4616-a4ca-8eb4ca3909cb",
   "metadata": {},
   "outputs": [
    {
     "data": {
      "text/plain": [
       "array([[-0.5,  1. ,  0. ],\n",
       "       [ 1. ,  0. ,  0. ],\n",
       "       [ 0.5,  1. ,  1. ]])"
      ]
     },
     "execution_count": 61,
     "metadata": {},
     "output_type": "execute_result"
    }
   ],
   "source": [
    "L"
   ]
  },
  {
   "cell_type": "code",
   "execution_count": 62,
   "id": "ee680672-57bf-4802-8c26-2b3dacf9105a",
   "metadata": {},
   "outputs": [
    {
     "data": {
      "text/plain": [
       "array([[ 6. , -6. ,  7. ],\n",
       "       [ 0. , -1. ,  2.5],\n",
       "       [ 0. ,  0. , -2. ]])"
      ]
     },
     "execution_count": 62,
     "metadata": {},
     "output_type": "execute_result"
    }
   ],
   "source": [
    "U"
   ]
  },
  {
   "cell_type": "code",
   "execution_count": 67,
   "id": "3a49b3b4-4ae2-47d3-a823-715286a0a1fa",
   "metadata": {},
   "outputs": [],
   "source": [
    "# another example\n",
    "A = np.array([[3, -7, -2],\n",
    "              [-3, 5, 1],\n",
    "              [6, -4, 0]])\n",
    "\n",
    "P,L,U = linalg.lu(A)"
   ]
  },
  {
   "cell_type": "code",
   "execution_count": 68,
   "id": "fac8b5ab-d285-42d9-bed0-fbcbf02430cf",
   "metadata": {},
   "outputs": [
    {
     "data": {
      "text/plain": [
       "array([[ 1. ,  0. ,  0. ],\n",
       "       [ 0.5,  1. ,  0. ],\n",
       "       [-0.5, -0.6,  1. ]])"
      ]
     },
     "execution_count": 68,
     "metadata": {},
     "output_type": "execute_result"
    }
   ],
   "source": [
    "L"
   ]
  },
  {
   "cell_type": "code",
   "execution_count": 69,
   "id": "51f9fe5b-92ce-4c4c-956a-8cbe8a188f17",
   "metadata": {},
   "outputs": [
    {
     "data": {
      "text/plain": [
       "array([[ 6. , -4. ,  0. ],\n",
       "       [ 0. , -5. , -2. ],\n",
       "       [ 0. ,  0. , -0.2]])"
      ]
     },
     "execution_count": 69,
     "metadata": {},
     "output_type": "execute_result"
    }
   ],
   "source": [
    "U"
   ]
  },
  {
   "cell_type": "code",
   "execution_count": null,
   "id": "07f9d6a3-a711-48d7-86a2-3114295da918",
   "metadata": {},
   "outputs": [],
   "source": []
  }
 ],
 "metadata": {
  "kernelspec": {
   "display_name": "Python 3 (ipykernel)",
   "language": "python",
   "name": "python3"
  },
  "language_info": {
   "codemirror_mode": {
    "name": "ipython",
    "version": 3
   },
   "file_extension": ".py",
   "mimetype": "text/x-python",
   "name": "python",
   "nbconvert_exporter": "python",
   "pygments_lexer": "ipython3",
   "version": "3.8.10"
  }
 },
 "nbformat": 4,
 "nbformat_minor": 5
}
