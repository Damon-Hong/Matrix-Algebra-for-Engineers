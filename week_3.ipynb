{
 "cells": [
  {
   "cell_type": "code",
   "execution_count": 1,
   "id": "18f2f242-117d-40cc-9b7c-0901cee759bf",
   "metadata": {},
   "outputs": [],
   "source": [
    "import numpy as np \n",
    "import sympy as sy"
   ]
  },
  {
   "cell_type": "markdown",
   "id": "5c269514-876d-49b2-a2ee-34f044f0dc4c",
   "metadata": {},
   "source": [
    "# Lecture 16: Vector Spaces"
   ]
  },
  {
   "cell_type": "markdown",
   "id": "ef1381b1-47d5-4047-be15-1a28ec6491b7",
   "metadata": {},
   "source": [
    "# Lecture 17: Linear Independence"
   ]
  },
  {
   "cell_type": "markdown",
   "id": "27444f9a-c62f-4a84-b225-c065759f0ecf",
   "metadata": {},
   "source": [
    "## Definition:\n",
    "\n",
    "The vectors $ \\{ u_1, u_2,...,u_n  \\}$ are *linearly independent* if for any scalars $c_1,c_2,...,c_n$ the equation \n",
    "$$c_1u_1 + c_2u_2 + ... + c_nu_n = 0$$\n",
    "has only solution $c_1=c_2=...=c_n=0$.\n",
    "\n",
    "What this means is that one is unable to write any of the vectors $u_1,u_2,...,u_n$ as a linear combination of any of the other vectors."
   ]
  },
  {
   "cell_type": "markdown",
   "id": "d8f3db84-3c0a-4e9d-b52e-1e0bc8a27cac",
   "metadata": {},
   "source": [
    "## Method to check if a set of vectors are linearly independent:\n",
    "\n",
    "If a set of vectors $ \\{ u_1, u_2,...,u_n  \\}$ are *linearly independent*, then the matrix $A = [u_1, u_2,...,u_n]$ is a full rank matrix."
   ]
  },
  {
   "cell_type": "code",
   "execution_count": 3,
   "id": "67d9b602-2a93-4e83-969f-d3af5da9ad33",
   "metadata": {},
   "outputs": [
    {
     "data": {
      "text/plain": [
       "2"
      ]
     },
     "execution_count": 3,
     "metadata": {},
     "output_type": "execute_result"
    }
   ],
   "source": [
    "# An example\n",
    "#  A is a reduced rank matrix\n",
    "A = np.array([[0, 1, 1],\n",
    "              [1, 0, 0],\n",
    "              [0, 1, 1]])\n",
    "\n",
    "np.linalg.matrix_rank(A)"
   ]
  },
  {
   "cell_type": "code",
   "execution_count": 4,
   "id": "b4c2a7bd-01c5-4f16-8143-db8d2487ccfc",
   "metadata": {},
   "outputs": [
    {
     "data": {
      "text/plain": [
       "3"
      ]
     },
     "execution_count": 4,
     "metadata": {},
     "output_type": "execute_result"
    }
   ],
   "source": [
    "# Another example \n",
    "# A is a full rank matrix\n",
    "A = np.array([[1, 1, 0],\n",
    "              [1, 0, 1],\n",
    "              [0, 1, 1]])\n",
    "\n",
    "np.linalg.matrix_rank(A)"
   ]
  },
  {
   "cell_type": "code",
   "execution_count": 7,
   "id": "e8c6c7ed-9454-4cfa-a71f-28215ada7702",
   "metadata": {},
   "outputs": [
    {
     "data": {
      "text/plain": [
       "2"
      ]
     },
     "execution_count": 7,
     "metadata": {},
     "output_type": "execute_result"
    }
   ],
   "source": [
    "A = np.array([[2, -1, -1],\n",
    "              [-1, 2, -1],\n",
    "              [-1, -1, 2]])\n",
    "\n",
    "np.linalg.matrix_rank(A)"
   ]
  },
  {
   "cell_type": "markdown",
   "id": "7d8521ad-b0c9-411b-ac33-7101dab7da38",
   "metadata": {},
   "source": [
    "# Lecture 18: Span,Basis and Dimension"
   ]
  },
  {
   "cell_type": "markdown",
   "id": "907ec048-40bc-4cb5-84ba-a4c29d09dce9",
   "metadata": {},
   "source": [
    "# Lecture 19: Gram-Schmidt Process"
   ]
  },
  {
   "cell_type": "code",
   "execution_count": null,
   "id": "3ef005c9-0133-46f9-838a-4c746c222baf",
   "metadata": {
    "tags": []
   },
   "outputs": [],
   "source": []
  }
 ],
 "metadata": {
  "kernelspec": {
   "display_name": "Python 3 (ipykernel)",
   "language": "python",
   "name": "python3"
  },
  "language_info": {
   "codemirror_mode": {
    "name": "ipython",
    "version": 3
   },
   "file_extension": ".py",
   "mimetype": "text/x-python",
   "name": "python",
   "nbconvert_exporter": "python",
   "pygments_lexer": "ipython3",
   "version": "3.8.10"
  }
 },
 "nbformat": 4,
 "nbformat_minor": 5
}
