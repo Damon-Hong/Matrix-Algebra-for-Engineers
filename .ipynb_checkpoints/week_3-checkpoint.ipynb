{
 "cells": [
  {
   "cell_type": "code",
   "execution_count": 10,
   "id": "18f2f242-117d-40cc-9b7c-0901cee759bf",
   "metadata": {},
   "outputs": [],
   "source": [
    "import numpy as np \n",
    "import sympy as sy"
   ]
  },
  {
   "cell_type": "markdown",
   "id": "5c269514-876d-49b2-a2ee-34f044f0dc4c",
   "metadata": {},
   "source": [
    "# Lecture 16: Vector Spaces"
   ]
  },
  {
   "cell_type": "markdown",
   "id": "ef1381b1-47d5-4047-be15-1a28ec6491b7",
   "metadata": {},
   "source": [
    "# Lecture 17: Linear Independence"
   ]
  },
  {
   "cell_type": "markdown",
   "id": "27444f9a-c62f-4a84-b225-c065759f0ecf",
   "metadata": {
    "tags": []
   },
   "source": [
    "## Definition:\n",
    "\n",
    "The vectors $ \\{ u_1, u_2,...,u_n  \\}$ are *linearly independent* if for any scalars $c_1,c_2,...,c_n$ the equation \n",
    "$$c_1u_1 + c_2u_2 + ... + c_nu_n = 0$$\n",
    "has only solution $c_1=c_2=...=c_n=0$.\n",
    "\n",
    "What this means is that one is unable to write any of the vectors $u_1,u_2,...,u_n$ as a linear combination of any of the other vectors."
   ]
  },
  {
   "cell_type": "markdown",
   "id": "d8f3db84-3c0a-4e9d-b52e-1e0bc8a27cac",
   "metadata": {
    "tags": []
   },
   "source": [
    "## Method to check if a set of vectors are linearly independent:\n",
    "\n",
    "If a set of vectors $ \\{ u_1, u_2,...,u_n  \\}$ are *linearly independent*, then the matrix $A = [u_1, u_2,...,u_n]$ is a full rank matrix."
   ]
  },
  {
   "cell_type": "code",
   "execution_count": 2,
   "id": "67d9b602-2a93-4e83-969f-d3af5da9ad33",
   "metadata": {},
   "outputs": [
    {
     "data": {
      "text/plain": [
       "2"
      ]
     },
     "execution_count": 2,
     "metadata": {},
     "output_type": "execute_result"
    }
   ],
   "source": [
    "# An example\n",
    "#  A is a reduced rank matrix\n",
    "A = np.array([[0, 1, 1],\n",
    "              [1, 0, 0],\n",
    "              [0, 1, 1]])\n",
    "\n",
    "np.linalg.matrix_rank(A)"
   ]
  },
  {
   "cell_type": "code",
   "execution_count": 3,
   "id": "b4c2a7bd-01c5-4f16-8143-db8d2487ccfc",
   "metadata": {},
   "outputs": [
    {
     "data": {
      "text/plain": [
       "3"
      ]
     },
     "execution_count": 3,
     "metadata": {},
     "output_type": "execute_result"
    }
   ],
   "source": [
    "# Another example \n",
    "# A is a full rank matrix\n",
    "A = np.array([[1, 1, 0],\n",
    "              [1, 0, 1],\n",
    "              [0, 1, 1]])\n",
    "\n",
    "np.linalg.matrix_rank(A)"
   ]
  },
  {
   "cell_type": "code",
   "execution_count": 4,
   "id": "e8c6c7ed-9454-4cfa-a71f-28215ada7702",
   "metadata": {},
   "outputs": [
    {
     "data": {
      "text/plain": [
       "2"
      ]
     },
     "execution_count": 4,
     "metadata": {},
     "output_type": "execute_result"
    }
   ],
   "source": [
    "A = np.array([[2, -1, -1],\n",
    "              [-1, 2, -1],\n",
    "              [-1, -1, 2]])\n",
    "\n",
    "np.linalg.matrix_rank(A)"
   ]
  },
  {
   "cell_type": "markdown",
   "id": "7d8521ad-b0c9-411b-ac33-7101dab7da38",
   "metadata": {
    "jp-MarkdownHeadingCollapsed": true,
    "tags": []
   },
   "source": [
    "# Lecture 18: Span,Basis and Dimension"
   ]
  },
  {
   "cell_type": "markdown",
   "id": "907ec048-40bc-4cb5-84ba-a4c29d09dce9",
   "metadata": {
    "tags": []
   },
   "source": [
    "# Lecture 19: Gram-Schmidt Process"
   ]
  },
  {
   "cell_type": "markdown",
   "id": "fa5db355-f72b-4afe-a2e3-e61f1f08a0aa",
   "metadata": {
    "tags": []
   },
   "source": [
    "![my diagram](diagram.svg)"
   ]
  },
  {
   "cell_type": "markdown",
   "id": "3655cb65-96d1-402c-b3bf-bd6891e3450b",
   "metadata": {},
   "source": [
    "**Purpose of Gram-Schmidt process:**\n",
    "\n",
    "The purpose of Gram-Schmidt process is to make a set of vectors to be a orthonormal basis."
   ]
  },
  {
   "cell_type": "markdown",
   "id": "9aede748-f189-4cfa-b58f-a4118c7e0c9f",
   "metadata": {},
   "source": [
    "**The steps of Gram-Schmidt process:**\n",
    "\n",
    "- We set $v_1$ as one of the basic vector.\n",
    "- We then get $v_1^{T}(v_2 - \\alpha v_1) = 0$, which we finally get $ \\alpha = \\frac{v_1^{T}v_2}{v_1^{T}v_1} $.\n",
    "- Then, the $v_{2_{|| v_1}} = \\frac{v_1^{T}v_2}{v_1^{T}v_1} v_1$.\n",
    "- Finally, the $v_{2_{\\perp v_1}} = v_2 - \\frac{v_1^{T}v_2}{v_1^{T}v_1} v_1$.\n",
    "- For $ v_{3_{\\perp v_1,v_2}} = v_3 - \\frac{v_1^{T}v_3}{v_1^{T}v_1} v_1 - \\frac{v_{2_{\\perp v_1}}^{T}v_3}{v_{2_{\\perp v_1}}^{T}v_{2_{\\perp v_1}}} v_{2_{\\perp v_1}}  $\n"
   ]
  },
  {
   "cell_type": "markdown",
   "id": "bfb62a64-eb52-4a5e-817d-89c734d6b1c7",
   "metadata": {},
   "source": [
    "## QR decomposition"
   ]
  },
  {
   "cell_type": "markdown",
   "id": "6739aed6-86cb-4f69-baac-2da1f43589a8",
   "metadata": {},
   "source": [
    "If $Q$ is not an orthogonal matrix originally, then Gram-Schmidt process cannot recover back to $A$, this is because there must have some information loss when doing the orthogonalization. To keep the information change, we will introduce a \"residual\" matrix $R$, which forms $A = QR$. This decomposition technique is called QR decomposition."
   ]
  },
  {
   "cell_type": "code",
   "execution_count": 13,
   "id": "4e8cca47-9e8b-49dd-902e-e05d959b8733",
   "metadata": {},
   "outputs": [],
   "source": [
    "# An example\n",
    "A = np.array([[1, 3],\n",
    "              [1, 4]])\n",
    "Q, R = np.linalg.qr(A)"
   ]
  },
  {
   "cell_type": "code",
   "execution_count": 14,
   "id": "4fb75140-4f7a-4306-b9ab-673f5225afb3",
   "metadata": {},
   "outputs": [
    {
     "data": {
      "text/plain": [
       "array([[-0.70710678, -0.70710678],\n",
       "       [-0.70710678,  0.70710678]])"
      ]
     },
     "execution_count": 14,
     "metadata": {},
     "output_type": "execute_result"
    }
   ],
   "source": [
    "Q"
   ]
  },
  {
   "cell_type": "code",
   "execution_count": 15,
   "id": "23881d6d-1fe8-4b4e-9af7-33131a3764ea",
   "metadata": {},
   "outputs": [
    {
     "data": {
      "text/plain": [
       "array([[-1.41421356, -4.94974747],\n",
       "       [ 0.        ,  0.70710678]])"
      ]
     },
     "execution_count": 15,
     "metadata": {},
     "output_type": "execute_result"
    }
   ],
   "source": [
    "R"
   ]
  },
  {
   "cell_type": "code",
   "execution_count": 16,
   "id": "57c4a934-e607-4a46-8851-64a679b216e4",
   "metadata": {},
   "outputs": [
    {
     "data": {
      "text/plain": [
       "array([[ 1.00000000e+00, -1.33393446e-16],\n",
       "       [-1.33393446e-16,  1.00000000e+00]])"
      ]
     },
     "execution_count": 16,
     "metadata": {},
     "output_type": "execute_result"
    }
   ],
   "source": [
    "# Q is an orthonormal matrix\n",
    "Q@Q.T"
   ]
  },
  {
   "cell_type": "code",
   "execution_count": null,
   "id": "a68309ba-c8f0-4f58-b65f-38843d9ddcb5",
   "metadata": {},
   "outputs": [],
   "source": []
  }
 ],
 "metadata": {
  "@deathbeds/ipydrawio": {
   "xml": "<mxfile host=\"localhost\" modified=\"2021-12-31T14:34:52.063Z\" agent=\"5.0 (Windows NT 10.0; Win64; x64) AppleWebKit/537.36 (KHTML, like Gecko) Chrome/96.0.4664.110 Safari/537.36\" version=\"15.8.7\" etag=\"lJxKMie0MoBpVOLtyvFs\" type=\"embed\"><diagram id=\"AKikhETvasauumzfQErp\" name=\"Page-1\"><mxGraphModel dx=\"1055\" dy=\"663\" grid=\"1\" gridSize=\"10\" guides=\"1\" tooltips=\"1\" connect=\"1\" arrows=\"1\" fold=\"1\" page=\"1\" pageScale=\"1\" pageWidth=\"827\" pageHeight=\"1169\" math=\"0\" shadow=\"0\"><root><mxCell id=\"0\"/><mxCell id=\"1\" parent=\"0\"/><mxCell id=\"2\" value=\"\" style=\"rounded=0;\" vertex=\"1\" parent=\"1\"><mxGeometry x=\"180\" y=\"330\" width=\"120\" height=\"60\" as=\"geometry\"/></mxCell><mxCell id=\"3\" value=\"\" style=\"ellipse;shape=cloud;\" vertex=\"1\" parent=\"1\"><mxGeometry x=\"390\" y=\"320\" width=\"120\" height=\"80\" as=\"geometry\"/></mxCell></root></mxGraphModel></diagram></mxfile>"
  },
  "kernelspec": {
   "display_name": "Python 3 (ipykernel)",
   "language": "python",
   "name": "python3"
  },
  "language_info": {
   "codemirror_mode": {
    "name": "ipython",
    "version": 3
   },
   "file_extension": ".py",
   "mimetype": "text/x-python",
   "name": "python",
   "nbconvert_exporter": "python",
   "pygments_lexer": "ipython3",
   "version": "3.8.10"
  },
  "toc-autonumbering": true
 },
 "nbformat": 4,
 "nbformat_minor": 5
}
