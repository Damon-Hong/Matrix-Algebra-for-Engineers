{
 "cells": [
  {
   "cell_type": "code",
   "execution_count": 1,
   "id": "18f2f242-117d-40cc-9b7c-0901cee759bf",
   "metadata": {},
   "outputs": [],
   "source": [
    "import numpy as np \n",
    "import sympy as sy\n",
    "from scipy.linalg import solve"
   ]
  },
  {
   "cell_type": "markdown",
   "id": "5c269514-876d-49b2-a2ee-34f044f0dc4c",
   "metadata": {},
   "source": [
    "# Lecture 16: Vector Spaces"
   ]
  },
  {
   "cell_type": "markdown",
   "id": "ef1381b1-47d5-4047-be15-1a28ec6491b7",
   "metadata": {},
   "source": [
    "# Lecture 17: Linear Independence"
   ]
  },
  {
   "cell_type": "markdown",
   "id": "27444f9a-c62f-4a84-b225-c065759f0ecf",
   "metadata": {
    "tags": []
   },
   "source": [
    "## Definition:\n",
    "\n",
    "The vectors $ \\{ u_1, u_2,...,u_n  \\}$ are *linearly independent* if for any scalars $c_1,c_2,...,c_n$ the equation \n",
    "$$c_1u_1 + c_2u_2 + ... + c_nu_n = 0$$\n",
    "has only solution $c_1=c_2=...=c_n=0$.\n",
    "\n",
    "What this means is that one is unable to write any of the vectors $u_1,u_2,...,u_n$ as a linear combination of any of the other vectors."
   ]
  },
  {
   "cell_type": "markdown",
   "id": "d8f3db84-3c0a-4e9d-b52e-1e0bc8a27cac",
   "metadata": {
    "tags": []
   },
   "source": [
    "## Method to check if a set of vectors are linearly independent:\n",
    "\n",
    "If a set of vectors $ \\{ u_1, u_2,...,u_n  \\}$ are *linearly independent*, then the matrix $A = [u_1, u_2,...,u_n]$ is a full rank matrix."
   ]
  },
  {
   "cell_type": "code",
   "execution_count": 2,
   "id": "67d9b602-2a93-4e83-969f-d3af5da9ad33",
   "metadata": {},
   "outputs": [
    {
     "data": {
      "text/plain": [
       "2"
      ]
     },
     "execution_count": 2,
     "metadata": {},
     "output_type": "execute_result"
    }
   ],
   "source": [
    "# An example\n",
    "#  A is a reduced rank matrix\n",
    "A = np.array([[0, 1, 1],\n",
    "              [1, 0, 0],\n",
    "              [0, 1, 1]])\n",
    "\n",
    "np.linalg.matrix_rank(A)"
   ]
  },
  {
   "cell_type": "code",
   "execution_count": 3,
   "id": "b4c2a7bd-01c5-4f16-8143-db8d2487ccfc",
   "metadata": {},
   "outputs": [
    {
     "data": {
      "text/plain": [
       "3"
      ]
     },
     "execution_count": 3,
     "metadata": {},
     "output_type": "execute_result"
    }
   ],
   "source": [
    "# Another example \n",
    "# A is a full rank matrix\n",
    "A = np.array([[1, 1, 0],\n",
    "              [1, 0, 1],\n",
    "              [0, 1, 1]])\n",
    "\n",
    "np.linalg.matrix_rank(A)"
   ]
  },
  {
   "cell_type": "code",
   "execution_count": 4,
   "id": "e8c6c7ed-9454-4cfa-a71f-28215ada7702",
   "metadata": {},
   "outputs": [
    {
     "data": {
      "text/plain": [
       "2"
      ]
     },
     "execution_count": 4,
     "metadata": {},
     "output_type": "execute_result"
    }
   ],
   "source": [
    "A = np.array([[2, -1, -1],\n",
    "              [-1, 2, -1],\n",
    "              [-1, -1, 2]])\n",
    "\n",
    "np.linalg.matrix_rank(A)"
   ]
  },
  {
   "cell_type": "markdown",
   "id": "7d8521ad-b0c9-411b-ac33-7101dab7da38",
   "metadata": {
    "jp-MarkdownHeadingCollapsed": true,
    "tags": []
   },
   "source": [
    "# Lecture 18: Span,Basis and Dimension"
   ]
  },
  {
   "cell_type": "markdown",
   "id": "907ec048-40bc-4cb5-84ba-a4c29d09dce9",
   "metadata": {
    "tags": []
   },
   "source": [
    "# Lecture 19: Gram-Schmidt Process"
   ]
  },
  {
   "cell_type": "markdown",
   "id": "fa5db355-f72b-4afe-a2e3-e61f1f08a0aa",
   "metadata": {
    "tags": []
   },
   "source": [
    "![my diagram](diagram.svg)"
   ]
  },
  {
   "cell_type": "markdown",
   "id": "3655cb65-96d1-402c-b3bf-bd6891e3450b",
   "metadata": {},
   "source": [
    "**Purpose of Gram-Schmidt process:**\n",
    "\n",
    "The purpose of Gram-Schmidt process is to make a set of vectors to be a orthonormal basis."
   ]
  },
  {
   "cell_type": "markdown",
   "id": "9aede748-f189-4cfa-b58f-a4118c7e0c9f",
   "metadata": {},
   "source": [
    "**The steps of Gram-Schmidt process:**\n",
    "\n",
    "- We set $v_1$ as one of the basic vector.\n",
    "- We then get $v_1^{T}(v_2 - \\alpha v_1) = 0$, which we finally get $ \\alpha = \\frac{v_1^{T}v_2}{v_1^{T}v_1} $.\n",
    "- Then, the $v_{2_{|| v_1}} = \\frac{v_1^{T}v_2}{v_1^{T}v_1} v_1$.\n",
    "- Finally, the $v_{2_{\\perp v_1}} = v_2 - \\frac{v_1^{T}v_2}{v_1^{T}v_1} v_1$.\n",
    "- For $ v_{3_{\\perp v_1,v_2}} = v_3 - \\frac{v_1^{T}v_3}{v_1^{T}v_1} v_1 - \\frac{v_{2_{\\perp v_1}}^{T}v_3}{v_{2_{\\perp v_1}}^{T}v_{2_{\\perp v_1}}} v_{2_{\\perp v_1}}  $\n"
   ]
  },
  {
   "cell_type": "markdown",
   "id": "bfb62a64-eb52-4a5e-817d-89c734d6b1c7",
   "metadata": {},
   "source": [
    "## QR decomposition"
   ]
  },
  {
   "cell_type": "markdown",
   "id": "6739aed6-86cb-4f69-baac-2da1f43589a8",
   "metadata": {},
   "source": [
    "If $Q$ is not an orthogonal matrix originally, then Gram-Schmidt process cannot recover back to $A$, this is because there must have some information loss when doing the orthogonalization. To keep the information change, we will introduce a \"residual\" matrix $R$, which forms $A = QR$. This decomposition technique is called QR decomposition."
   ]
  },
  {
   "cell_type": "code",
   "execution_count": 5,
   "id": "4e8cca47-9e8b-49dd-902e-e05d959b8733",
   "metadata": {},
   "outputs": [],
   "source": [
    "# An example\n",
    "A = np.array([[1, 3],\n",
    "              [1, 4]])\n",
    "Q, R = np.linalg.qr(A)"
   ]
  },
  {
   "cell_type": "code",
   "execution_count": 6,
   "id": "4fb75140-4f7a-4306-b9ab-673f5225afb3",
   "metadata": {},
   "outputs": [
    {
     "data": {
      "text/plain": [
       "array([[-0.70710678, -0.70710678],\n",
       "       [-0.70710678,  0.70710678]])"
      ]
     },
     "execution_count": 6,
     "metadata": {},
     "output_type": "execute_result"
    }
   ],
   "source": [
    "Q"
   ]
  },
  {
   "cell_type": "code",
   "execution_count": 7,
   "id": "23881d6d-1fe8-4b4e-9af7-33131a3764ea",
   "metadata": {},
   "outputs": [
    {
     "data": {
      "text/plain": [
       "array([[-1.41421356, -4.94974747],\n",
       "       [ 0.        ,  0.70710678]])"
      ]
     },
     "execution_count": 7,
     "metadata": {},
     "output_type": "execute_result"
    }
   ],
   "source": [
    "R"
   ]
  },
  {
   "cell_type": "code",
   "execution_count": 8,
   "id": "57c4a934-e607-4a46-8851-64a679b216e4",
   "metadata": {},
   "outputs": [
    {
     "data": {
      "text/plain": [
       "array([[ 1.00000000e+00, -1.33393446e-16],\n",
       "       [-1.33393446e-16,  1.00000000e+00]])"
      ]
     },
     "execution_count": 8,
     "metadata": {},
     "output_type": "execute_result"
    }
   ],
   "source": [
    "# Q is an orthonormal matrix\n",
    "Q@Q.T"
   ]
  },
  {
   "cell_type": "markdown",
   "id": "3c4c6a25-481e-45b8-bcc9-98cf4d1ab11a",
   "metadata": {
    "tags": []
   },
   "source": [
    "# Lecture 21: Null Space"
   ]
  },
  {
   "cell_type": "markdown",
   "id": "765ede30-822c-4603-8089-2c65cc977a1f",
   "metadata": {},
   "source": [
    "## Definition:\n",
    "The null space of a matrix $A$, which we denote as $Null(A)$, is the vector space spanned by all column vectors $x$ that satisfy the matrix equation: \n",
    "$$Ax = 0$$"
   ]
  },
  {
   "cell_type": "code",
   "execution_count": 9,
   "id": "f932eb29-e1d5-4a7b-a0d0-0bd57b43bc8e",
   "metadata": {},
   "outputs": [
    {
     "data": {
      "text/plain": [
       "array([[-3,  6, -1,  1, -7],\n",
       "       [ 1, -2,  2,  3, -1],\n",
       "       [ 2, -4,  5,  8, -4]])"
      ]
     },
     "execution_count": 9,
     "metadata": {},
     "output_type": "execute_result"
    }
   ],
   "source": [
    "A = np.array([[-3, 6, -1, 1, -7],\n",
    "              [1, -2, 2, 3, -1],\n",
    "              [2, -4, 5, 8, -4]])\n",
    "A"
   ]
  },
  {
   "cell_type": "code",
   "execution_count": 10,
   "id": "cd6a45bb-718a-403c-b56a-b7c975024b71",
   "metadata": {},
   "outputs": [
    {
     "data": {
      "text/latex": [
       "$\\displaystyle \\left[\\begin{matrix}1 & -2 & 0 & -1 & 3\\\\0 & 0 & 1 & 2 & -2\\\\0 & 0 & 0 & 0 & 0\\end{matrix}\\right]$"
      ],
      "text/plain": [
       "Matrix([\n",
       "[1, -2, 0, -1,  3],\n",
       "[0,  0, 1,  2, -2],\n",
       "[0,  0, 0,  0,  0]])"
      ]
     },
     "execution_count": 10,
     "metadata": {},
     "output_type": "execute_result"
    }
   ],
   "source": [
    "sy.Matrix(A).rref()[0]"
   ]
  },
  {
   "cell_type": "code",
   "execution_count": 11,
   "id": "e37624ec-8e05-4056-84b2-d76c35de8bba",
   "metadata": {},
   "outputs": [],
   "source": [
    "NA = np.array([[2, 1, -3],\n",
    "               [1, 0, 0],\n",
    "               [0, -2, 2],\n",
    "               [0, 1, 0],\n",
    "               [0, 0, 1]])"
   ]
  },
  {
   "cell_type": "code",
   "execution_count": 12,
   "id": "7ec245e6-4abb-4597-86d2-cb2e70c22bd2",
   "metadata": {},
   "outputs": [],
   "source": [
    "x = np.array([[1,1,-2,2,1]]).T"
   ]
  },
  {
   "cell_type": "code",
   "execution_count": 13,
   "id": "7b6bc7c4-c49e-47a3-9204-0a24a3ecf536",
   "metadata": {},
   "outputs": [
    {
     "data": {
      "text/plain": [
       "array([[0],\n",
       "       [0],\n",
       "       [0]])"
      ]
     },
     "execution_count": 13,
     "metadata": {},
     "output_type": "execute_result"
    }
   ],
   "source": [
    "A@x"
   ]
  },
  {
   "cell_type": "markdown",
   "id": "00101c9f-0fc6-4724-81d2-a9248f25ed02",
   "metadata": {},
   "source": [
    "When we find the $Null(A)$, we can then form the equation below:\n",
    "$$A Null(A) y = 0$$\n",
    "where $y$ is the vector of all *free variables*, which can take any value."
   ]
  },
  {
   "cell_type": "code",
   "execution_count": 14,
   "id": "3e3c6822-2773-4530-b83c-249aa88f86df",
   "metadata": {},
   "outputs": [
    {
     "data": {
      "text/plain": [
       "array([[0],\n",
       "       [0],\n",
       "       [0]])"
      ]
     },
     "execution_count": 14,
     "metadata": {},
     "output_type": "execute_result"
    }
   ],
   "source": [
    "A@NA@np.array([[1,2,9]]).T"
   ]
  },
  {
   "cell_type": "code",
   "execution_count": 15,
   "id": "2f61a8fd-8056-4619-86dc-b6cd8e0cd241",
   "metadata": {},
   "outputs": [
    {
     "data": {
      "text/latex": [
       "$\\displaystyle \\left[\\begin{matrix}1 & 0 & 0 & 2\\\\0 & 1 & 0 & -1\\\\0 & 0 & 1 & -1\\end{matrix}\\right]$"
      ],
      "text/plain": [
       "Matrix([\n",
       "[1, 0, 0,  2],\n",
       "[0, 1, 0, -1],\n",
       "[0, 0, 1, -1]])"
      ]
     },
     "execution_count": 15,
     "metadata": {},
     "output_type": "execute_result"
    }
   ],
   "source": [
    "# An example\n",
    "A = np.array([[1, 1, 1, 0],\n",
    "              [1, 1, 0, 1], \n",
    "              [1, 0, 1, 1]])\n",
    "sy.Matrix(A).rref()[0]"
   ]
  },
  {
   "cell_type": "code",
   "execution_count": 16,
   "id": "0824b95c-34c6-476b-b601-ae3c50791c22",
   "metadata": {},
   "outputs": [
    {
     "data": {
      "text/plain": [
       "array([[0],\n",
       "       [0],\n",
       "       [0]])"
      ]
     },
     "execution_count": 16,
     "metadata": {},
     "output_type": "execute_result"
    }
   ],
   "source": [
    "A@np.array([[-2, 1, 1, 1]]).T"
   ]
  },
  {
   "cell_type": "markdown",
   "id": "43a92335-2dde-4dc3-83e1-95523710c484",
   "metadata": {},
   "source": [
    "# Lecture 22: Application of the Null Space"
   ]
  },
  {
   "cell_type": "markdown",
   "id": "eee9b317-57c4-49b2-805a-9cb2db2f6ec9",
   "metadata": {},
   "source": [
    "When the $A \\in \\mathcal{R}^{m\\times n}$ and $m < n$, which means there are more unkowns than number of equations, we'd like to solve $Ax = b$, which is called underdetermined system of linear equations. \n",
    "\n",
    "Let $u$ be a general vector in $Null(A)$. Let $v$ be any vector that solves $Ax = b$. Then we can construct a general solution of $Ax = b$, which is $x = u+v$. This is because $Ax = A(u+v) = Au + Av = 0 + b = b$."
   ]
  },
  {
   "cell_type": "code",
   "execution_count": 17,
   "id": "b18d6c17-7c51-4eee-b402-a872bb9624ac",
   "metadata": {},
   "outputs": [
    {
     "data": {
      "text/plain": [
       "array([[ 2,  2,  1,  0],\n",
       "       [ 2, -2, -1,  1]])"
      ]
     },
     "execution_count": 17,
     "metadata": {},
     "output_type": "execute_result"
    }
   ],
   "source": [
    "# An example\n",
    "A = np.array([[2, 2, 1, 0],\n",
    "              [2, -2, -1, 1]])\n",
    "A"
   ]
  },
  {
   "cell_type": "code",
   "execution_count": 18,
   "id": "6af1997b-d07e-4e08-8ba4-ea3f6af0e589",
   "metadata": {},
   "outputs": [
    {
     "data": {
      "text/latex": [
       "$\\displaystyle \\left[\\begin{matrix}1 & 0 & 0 & \\frac{1}{4}\\\\0 & 1 & \\frac{1}{2} & - \\frac{1}{4}\\end{matrix}\\right]$"
      ],
      "text/plain": [
       "Matrix([\n",
       "[1, 0,   0,  1/4],\n",
       "[0, 1, 1/2, -1/4]])"
      ]
     },
     "execution_count": 18,
     "metadata": {},
     "output_type": "execute_result"
    }
   ],
   "source": [
    "sy.Matrix(A).rref()[0]"
   ]
  },
  {
   "cell_type": "code",
   "execution_count": 19,
   "id": "61a3fea1-b4f5-434e-89c3-713461174daf",
   "metadata": {},
   "outputs": [
    {
     "data": {
      "text/plain": [
       "array([[-3,  6, -1,  1, -7],\n",
       "       [ 1, -2,  2,  3, -1],\n",
       "       [ 2, -4,  5,  8, -4]])"
      ]
     },
     "execution_count": 19,
     "metadata": {},
     "output_type": "execute_result"
    }
   ],
   "source": [
    "A = np.array([[-3, 6, -1, 1, -7],\n",
    "              [1, -2, 2, 3, -1],\n",
    "              [2, -4, 5, 8, -4]])\n",
    "A"
   ]
  },
  {
   "cell_type": "code",
   "execution_count": 20,
   "id": "04d2930f-2b4f-444a-b68a-93ccd4eab982",
   "metadata": {},
   "outputs": [
    {
     "data": {
      "text/latex": [
       "$\\displaystyle \\left[\\begin{matrix}1 & -2 & 0 & -1 & 3\\\\0 & 0 & 1 & 2 & -2\\\\0 & 0 & 0 & 0 & 0\\end{matrix}\\right]$"
      ],
      "text/plain": [
       "Matrix([\n",
       "[1, -2, 0, -1,  3],\n",
       "[0,  0, 1,  2, -2],\n",
       "[0,  0, 0,  0,  0]])"
      ]
     },
     "execution_count": 20,
     "metadata": {},
     "output_type": "execute_result"
    }
   ],
   "source": [
    "sy.Matrix(A).rref()[0]"
   ]
  },
  {
   "cell_type": "markdown",
   "id": "65ce0e19-8456-4a8e-a114-e2c495866ab5",
   "metadata": {},
   "source": [
    "# Lecture 23: Column Space"
   ]
  },
  {
   "cell_type": "markdown",
   "id": "42869c30-a915-4414-8d9f-ca1ccfad7bf1",
   "metadata": {},
   "source": [
    "**NOTE:** Reduced Row Echelon Form (RREF) doesn't change the linear dependency of columns of a matrix. "
   ]
  },
  {
   "cell_type": "code",
   "execution_count": 21,
   "id": "982a722f-e481-4da5-ad97-b1d1d93e4289",
   "metadata": {},
   "outputs": [
    {
     "data": {
      "text/plain": [
       "array([[-3,  6, -1,  1, -7],\n",
       "       [ 1, -2,  2,  3, -1],\n",
       "       [ 2, -4,  5,  8, -4]])"
      ]
     },
     "execution_count": 21,
     "metadata": {},
     "output_type": "execute_result"
    }
   ],
   "source": [
    "# For example:\n",
    "A = np.array([[-3, 6, -1, 1, -7],\n",
    "              [1, -2, 2, 3, -1],\n",
    "              [2, -4, 5, 8, -4]])\n",
    "A"
   ]
  },
  {
   "cell_type": "code",
   "execution_count": 23,
   "id": "bea11976-12f8-43c3-8da0-1b745a998d64",
   "metadata": {},
   "outputs": [
    {
     "data": {
      "text/plain": [
       "2"
      ]
     },
     "execution_count": 23,
     "metadata": {},
     "output_type": "execute_result"
    }
   ],
   "source": [
    "np.linalg.matrix_rank(A)"
   ]
  },
  {
   "cell_type": "code",
   "execution_count": 25,
   "id": "0fbffc72-35a5-4fe4-b526-d34b32223b93",
   "metadata": {},
   "outputs": [
    {
     "data": {
      "text/latex": [
       "$\\displaystyle \\left[\\begin{matrix}1 & -2 & 0 & -1 & 3\\\\0 & 0 & 1 & 2 & -2\\\\0 & 0 & 0 & 0 & 0\\end{matrix}\\right]$"
      ],
      "text/plain": [
       "Matrix([\n",
       "[1, -2, 0, -1,  3],\n",
       "[0,  0, 1,  2, -2],\n",
       "[0,  0, 0,  0,  0]])"
      ]
     },
     "execution_count": 25,
     "metadata": {},
     "output_type": "execute_result"
    }
   ],
   "source": [
    "rref_A = sy.Matrix(A).rref()[0]\n",
    "rref_A"
   ]
  },
  {
   "cell_type": "markdown",
   "id": "1049dc8f-b2fb-4bd9-8299-0800fde4db6a",
   "metadata": {},
   "source": [
    "The `rref_A` has two pivot columns which are the first and the third columns. Therefore, the rank of the `rref_A` is $2$."
   ]
  },
  {
   "cell_type": "code",
   "execution_count": 27,
   "id": "5256a254-1323-4070-b49a-328494a18dc3",
   "metadata": {},
   "outputs": [
    {
     "data": {
      "text/plain": [
       "2"
      ]
     },
     "execution_count": 27,
     "metadata": {},
     "output_type": "execute_result"
    }
   ],
   "source": [
    "rref_A.rank()"
   ]
  },
  {
   "cell_type": "code",
   "execution_count": 28,
   "id": "8922a551-75a0-4d4b-af19-2bcdc48507bc",
   "metadata": {},
   "outputs": [
    {
     "data": {
      "text/plain": [
       "array([[1, 1, 1, 0],\n",
       "       [1, 1, 0, 1],\n",
       "       [1, 0, 1, 1]])"
      ]
     },
     "execution_count": 28,
     "metadata": {},
     "output_type": "execute_result"
    }
   ],
   "source": [
    "A = np.array([[1, 1, 1, 0],\n",
    "              [1, 1, 0, 1],\n",
    "              [1, 0, 1, 1]])\n",
    "A"
   ]
  },
  {
   "cell_type": "code",
   "execution_count": 29,
   "id": "685dfd59-dcea-4032-bca7-315e7744a28a",
   "metadata": {},
   "outputs": [
    {
     "data": {
      "text/latex": [
       "$\\displaystyle \\left[\\begin{matrix}1 & 0 & 0 & 2\\\\0 & 1 & 0 & -1\\\\0 & 0 & 1 & -1\\end{matrix}\\right]$"
      ],
      "text/plain": [
       "Matrix([\n",
       "[1, 0, 0,  2],\n",
       "[0, 1, 0, -1],\n",
       "[0, 0, 1, -1]])"
      ]
     },
     "execution_count": 29,
     "metadata": {},
     "output_type": "execute_result"
    }
   ],
   "source": [
    "sy.Matrix(A).rref()[0]"
   ]
  },
  {
   "cell_type": "code",
   "execution_count": 30,
   "id": "6454a377-0282-41fa-b0b3-1bbe4df4a236",
   "metadata": {},
   "outputs": [
    {
     "data": {
      "text/plain": [
       "3"
      ]
     },
     "execution_count": 30,
     "metadata": {},
     "output_type": "execute_result"
    }
   ],
   "source": [
    "sy.Matrix(A).rank()"
   ]
  },
  {
   "cell_type": "code",
   "execution_count": 34,
   "id": "22a1b870-3d93-464c-93aa-962323a8b8f8",
   "metadata": {},
   "outputs": [
    {
     "data": {
      "text/plain": [
       "array([[ 2, -1,  1,  1],\n",
       "       [ 3, -1,  2, -2],\n",
       "       [-1,  0, -1,  3],\n",
       "       [ 1, -1,  1, -1],\n",
       "       [ 2,  1,  1, -3]])"
      ]
     },
     "execution_count": 34,
     "metadata": {},
     "output_type": "execute_result"
    }
   ],
   "source": [
    "A = np.array([[2, 3, -1, 1, 2],\n",
    "              [-1, -1, 0, -1, 1],\n",
    "              [1, 2, -1, 1, 1],\n",
    "              [1, -2, 3, -1, -3]])\n",
    "A.T"
   ]
  },
  {
   "cell_type": "code",
   "execution_count": 33,
   "id": "d471d56f-78f6-49e5-990e-4368e35a4ba0",
   "metadata": {},
   "outputs": [
    {
     "data": {
      "text/latex": [
       "$\\displaystyle \\left[\\begin{matrix}1 & 0 & 0 & 2\\\\0 & 1 & 0 & -2\\\\0 & 0 & 1 & -5\\\\0 & 0 & 0 & 0\\\\0 & 0 & 0 & 0\\end{matrix}\\right]$"
      ],
      "text/plain": [
       "Matrix([\n",
       "[1, 0, 0,  2],\n",
       "[0, 1, 0, -2],\n",
       "[0, 0, 1, -5],\n",
       "[0, 0, 0,  0],\n",
       "[0, 0, 0,  0]])"
      ]
     },
     "execution_count": 33,
     "metadata": {},
     "output_type": "execute_result"
    }
   ],
   "source": [
    "sy.Matrix(A.T).rref()[0]"
   ]
  },
  {
   "cell_type": "markdown",
   "id": "eb6f1ea8-ac53-4b79-8776-dc12976a6513",
   "metadata": {},
   "source": [
    "# Lecture 24: Row Space, Left Null Space and Rank"
   ]
  },
  {
   "cell_type": "markdown",
   "id": "d28e7858-4fb0-4222-94ec-da6edd8b54ff",
   "metadata": {},
   "source": [
    "If $A \\in \\mathcal{R}^{m \\times n}:$\n",
    "\n",
    "- $Null(A)$: subspace of all vectors in $\\mathcal{R}^{n}$. \n",
    "- $Col(A)$: subspace of all vectors in $\\mathcal{R}^{m}$.\n",
    "- $Row(A) = Col(A^{T})$: subspace of all vectors in $\\mathcal{R}^{n}$.\n",
    "- $LeftNull(A) = Null(A^{T})$: subspace of all vectors in $\\mathcal{R}^{m}$. "
   ]
  },
  {
   "cell_type": "markdown",
   "id": "eb0af2c8-01a0-4a9a-ba44-9017dff567b5",
   "metadata": {},
   "source": [
    "After RREF, the $dim(Null(A)) = $ number of non-pivot columns. The $dim(Row(A)) = $ number of pivot columns. Therefore, $Null(A)$ and $Row(A)$ are orthogonal complements, and $LeftNull(A)$ and $Col(A)$ are orthogonal complements."
   ]
  },
  {
   "cell_type": "code",
   "execution_count": 35,
   "id": "c72d1cbe-6e77-4695-ad8c-ef5b3a18be7c",
   "metadata": {},
   "outputs": [
    {
     "data": {
      "text/latex": [
       "$\\displaystyle \\left[\\begin{matrix}1 & 2 & 0 & 0\\\\0 & 0 & 1 & 0\\\\0 & 0 & 0 & 1\\end{matrix}\\right]$"
      ],
      "text/plain": [
       "Matrix([\n",
       "[1, 2, 0, 0],\n",
       "[0, 0, 1, 0],\n",
       "[0, 0, 0, 1]])"
      ]
     },
     "execution_count": 35,
     "metadata": {},
     "output_type": "execute_result"
    }
   ],
   "source": [
    "A = np.array([[1, 2, 0, 1],\n",
    "              [2, 4, 1, 1], \n",
    "              [3, 6, 1, 1]])\n",
    "sy.Matrix(A).rref()[0]"
   ]
  },
  {
   "cell_type": "code",
   "execution_count": 36,
   "id": "7d1e7318-e31a-4884-9f88-ba306ab5e422",
   "metadata": {},
   "outputs": [
    {
     "data": {
      "text/plain": [
       "3"
      ]
     },
     "execution_count": 36,
     "metadata": {},
     "output_type": "execute_result"
    }
   ],
   "source": [
    "sy.Matrix(A).rank()"
   ]
  },
  {
   "cell_type": "markdown",
   "id": "867d855c-ca1c-463e-be4f-d073c6f0ce59",
   "metadata": {},
   "source": [
    "# Lecture 27: Solution of Least-Square Problem  "
   ]
  },
  {
   "cell_type": "markdown",
   "id": "00386ae0-c281-4e60-a316-289ce09a6163",
   "metadata": {},
   "source": [
    "**Normal equation:**\n",
    "\n",
    "$$A^{T}Ax = A^{T}b$$\n",
    "\n",
    "**Solution of least-square problem:**\n",
    "$$(A^{T}A)^{-1}A^{T}Ax = x = (A^{T}A)^{-1}A^{T}b$$\n",
    "\n",
    "**Projection matrix:**\n",
    "$$Ax = A(A^{T}A)^{-1}A^{T}b$$\n",
    "where $A(A^{T}A)^{-1}A^{T}$ is called *projection matrix*."
   ]
  },
  {
   "cell_type": "code",
   "execution_count": 38,
   "id": "62bb31c3-0c84-4e49-9f8a-02f293cb838c",
   "metadata": {},
   "outputs": [
    {
     "data": {
      "text/latex": [
       "$\\displaystyle \\left[\\begin{matrix}1 & 0 & \\frac{7}{5}\\\\0 & 1 & \\frac{9}{10}\\end{matrix}\\right]$"
      ],
      "text/plain": [
       "Matrix([\n",
       "[1, 0,  7/5],\n",
       "[0, 1, 9/10]])"
      ]
     },
     "execution_count": 38,
     "metadata": {},
     "output_type": "execute_result"
    }
   ],
   "source": [
    "A = np.array([[4, 6, 11],\n",
    "              [6, 14, 21]])\n",
    "sy.Matrix(A).rref()[0]"
   ]
  },
  {
   "cell_type": "code",
   "execution_count": 39,
   "id": "de2357c1-b46a-41cd-9464-3cf669e38644",
   "metadata": {},
   "outputs": [
    {
     "data": {
      "text/latex": [
       "$\\displaystyle \\left[\\begin{matrix}1 & 0 & 3\\\\0 & 1 & -11\\\\0 & 0 & 0\\end{matrix}\\right]$"
      ],
      "text/plain": [
       "Matrix([\n",
       "[1, 0,   3],\n",
       "[0, 1, -11],\n",
       "[0, 0,   0]])"
      ]
     },
     "execution_count": 39,
     "metadata": {},
     "output_type": "execute_result"
    }
   ],
   "source": [
    "A = np.array([[1, 0, 3], \n",
    "              [-3, -1, 2],\n",
    "              [4, 1, 1]])\n",
    "sy.Matrix(A).rref()[0]"
   ]
  },
  {
   "cell_type": "code",
   "execution_count": 40,
   "id": "8dde1e9e-94d8-42c5-bd0f-7f918635bc72",
   "metadata": {},
   "outputs": [
    {
     "data": {
      "text/plain": [
       "2"
      ]
     },
     "execution_count": 40,
     "metadata": {},
     "output_type": "execute_result"
    }
   ],
   "source": [
    "sy.Matrix(A).rank()"
   ]
  },
  {
   "cell_type": "code",
   "execution_count": 45,
   "id": "9d1723ce-3a2d-45f9-b770-aa9f3d95fde2",
   "metadata": {},
   "outputs": [
    {
     "data": {
      "text/latex": [
       "$\\displaystyle \\left[\\begin{matrix}1 & 0 & \\frac{14}{5}\\\\0 & 1 & \\frac{1}{5}\\\\0 & 0 & 0\\end{matrix}\\right]$"
      ],
      "text/plain": [
       "Matrix([\n",
       "[1, 0, 14/5],\n",
       "[0, 1,  1/5],\n",
       "[0, 0,    0]])"
      ]
     },
     "execution_count": 45,
     "metadata": {},
     "output_type": "execute_result"
    }
   ],
   "source": [
    "A = np.array([[1, 1, 3],\n",
    "              [1, -4, 2],\n",
    "              [0, 5, 1]])\n",
    "sy.Matrix(A).rref()[0]"
   ]
  },
  {
   "cell_type": "code",
   "execution_count": 42,
   "id": "34a4fb34-2f0c-4454-bcb6-ae384350f73e",
   "metadata": {},
   "outputs": [
    {
     "data": {
      "text/plain": [
       "3"
      ]
     },
     "execution_count": 42,
     "metadata": {},
     "output_type": "execute_result"
    }
   ],
   "source": [
    "sy.Matrix(A).rank()"
   ]
  },
  {
   "cell_type": "code",
   "execution_count": 43,
   "id": "86c409a2-4182-437b-956a-82f1290b3f61",
   "metadata": {},
   "outputs": [
    {
     "data": {
      "text/latex": [
       "$\\displaystyle \\left[\\begin{matrix}1 & -1 & 0 & 0\\\\0 & 0 & 1 & 0\\\\0 & 0 & 0 & 1\\end{matrix}\\right]$"
      ],
      "text/plain": [
       "Matrix([\n",
       "[1, -1, 0, 0],\n",
       "[0,  0, 1, 0],\n",
       "[0,  0, 0, 1]])"
      ]
     },
     "execution_count": 43,
     "metadata": {},
     "output_type": "execute_result"
    }
   ],
   "source": [
    "A = np.array([[1, -1, 1, 1],\n",
    "              [4, -4, 3, 6],\n",
    "              [2, -2, 1, 3]])\n",
    "sy.Matrix(A).rref()[0]"
   ]
  },
  {
   "cell_type": "code",
   "execution_count": 47,
   "id": "988cd771-7c2c-4d86-bc39-76984ac58dff",
   "metadata": {},
   "outputs": [
    {
     "data": {
      "text/latex": [
       "$\\displaystyle \\left[\\begin{matrix}1 & -2 & 0 & 1\\\\0 & 0 & 1 & 0\\\\0 & 0 & 0 & 0\\end{matrix}\\right]$"
      ],
      "text/plain": [
       "Matrix([\n",
       "[1, -2, 0, 1],\n",
       "[0,  0, 1, 0],\n",
       "[0,  0, 0, 0]])"
      ]
     },
     "execution_count": 47,
     "metadata": {},
     "output_type": "execute_result"
    }
   ],
   "source": [
    "A = np.array([[1, -2, 0, 1],\n",
    "              [2, -4, 1, 2],\n",
    "              [3, -6, 1, 3]])\n",
    "sy.Matrix(A).rref()[0]"
   ]
  },
  {
   "cell_type": "code",
   "execution_count": null,
   "id": "c1997e54-f48b-4f2e-a3f9-dd17526b0aae",
   "metadata": {},
   "outputs": [],
   "source": []
  }
 ],
 "metadata": {
  "@deathbeds/ipydrawio": {
   "xml": "<mxfile host=\"localhost\" modified=\"2021-12-31T14:34:52.063Z\" agent=\"5.0 (Windows NT 10.0; Win64; x64) AppleWebKit/537.36 (KHTML, like Gecko) Chrome/96.0.4664.110 Safari/537.36\" version=\"15.8.7\" etag=\"lJxKMie0MoBpVOLtyvFs\" type=\"embed\"><diagram id=\"AKikhETvasauumzfQErp\" name=\"Page-1\"><mxGraphModel dx=\"1055\" dy=\"663\" grid=\"1\" gridSize=\"10\" guides=\"1\" tooltips=\"1\" connect=\"1\" arrows=\"1\" fold=\"1\" page=\"1\" pageScale=\"1\" pageWidth=\"827\" pageHeight=\"1169\" math=\"0\" shadow=\"0\"><root><mxCell id=\"0\"/><mxCell id=\"1\" parent=\"0\"/><mxCell id=\"2\" value=\"\" style=\"rounded=0;\" vertex=\"1\" parent=\"1\"><mxGeometry x=\"180\" y=\"330\" width=\"120\" height=\"60\" as=\"geometry\"/></mxCell><mxCell id=\"3\" value=\"\" style=\"ellipse;shape=cloud;\" vertex=\"1\" parent=\"1\"><mxGeometry x=\"390\" y=\"320\" width=\"120\" height=\"80\" as=\"geometry\"/></mxCell></root></mxGraphModel></diagram></mxfile>"
  },
  "kernelspec": {
   "display_name": "Python 3 (ipykernel)",
   "language": "python",
   "name": "python3"
  },
  "language_info": {
   "codemirror_mode": {
    "name": "ipython",
    "version": 3
   },
   "file_extension": ".py",
   "mimetype": "text/x-python",
   "name": "python",
   "nbconvert_exporter": "python",
   "pygments_lexer": "ipython3",
   "version": "3.8.10"
  },
  "toc-autonumbering": true
 },
 "nbformat": 4,
 "nbformat_minor": 5
}
