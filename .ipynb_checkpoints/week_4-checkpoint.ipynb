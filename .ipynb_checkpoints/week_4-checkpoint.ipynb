{
 "cells": [
  {
   "cell_type": "code",
   "execution_count": 1,
   "id": "f2046598-1bfe-4d61-b555-006667757ff9",
   "metadata": {},
   "outputs": [],
   "source": [
    "import numpy as np \n",
    "import sympy as sy"
   ]
  },
  {
   "cell_type": "markdown",
   "id": "cf1c41f9-cfa0-4d65-9cfe-33123b02700c",
   "metadata": {},
   "source": [
    "# Lecture 28: Two-by-Two and Three-by-Three Determinants"
   ]
  },
  {
   "cell_type": "markdown",
   "id": "796f6bb9-bade-491e-8e1e-463101332754",
   "metadata": {},
   "source": [
    "Let $A$ and $B$ be $2\\times 2$ matrices, then $det(AB) = det(A)*det(B)$"
   ]
  },
  {
   "cell_type": "code",
   "execution_count": 2,
   "id": "bcffc061-e53f-4e33-a04e-0afb55621eae",
   "metadata": {},
   "outputs": [],
   "source": [
    "A = sy.MatrixSymbol(\"A\", 2, 2)\n",
    "B = sy.MatrixSymbol(\"B\", 2, 2)"
   ]
  },
  {
   "cell_type": "code",
   "execution_count": 3,
   "id": "29017b8d-8486-4faf-8728-141fc050cf5c",
   "metadata": {},
   "outputs": [
    {
     "data": {
      "text/latex": [
       "$\\displaystyle A_{0, 0} A_{1, 1} - A_{0, 1} A_{1, 0}$"
      ],
      "text/plain": [
       "A[0, 0]*A[1, 1] - A[0, 1]*A[1, 0]"
      ]
     },
     "execution_count": 3,
     "metadata": {},
     "output_type": "execute_result"
    }
   ],
   "source": [
    "sy.Matrix(A).det() #* sy.Matrix(B).det()"
   ]
  },
  {
   "cell_type": "code",
   "execution_count": 4,
   "id": "35c922e1-30d1-4e7b-9e5d-a5c84a31f919",
   "metadata": {},
   "outputs": [
    {
     "data": {
      "text/latex": [
       "$\\displaystyle A_{0, 0} A_{1, 1} B_{0, 0} B_{1, 1} - A_{0, 0} A_{1, 1} B_{0, 1} B_{1, 0} - A_{0, 1} A_{1, 0} B_{0, 0} B_{1, 1} + A_{0, 1} A_{1, 0} B_{0, 1} B_{1, 0}$"
      ],
      "text/plain": [
       "A[0, 0]*A[1, 1]*B[0, 0]*B[1, 1] - A[0, 0]*A[1, 1]*B[0, 1]*B[1, 0] - A[0, 1]*A[1, 0]*B[0, 0]*B[1, 1] + A[0, 1]*A[1, 0]*B[0, 1]*B[1, 0]"
      ]
     },
     "execution_count": 4,
     "metadata": {},
     "output_type": "execute_result"
    }
   ],
   "source": [
    "sy.Matrix(A@B).det()"
   ]
  },
  {
   "cell_type": "markdown",
   "id": "10608d89-fa68-4aa5-a089-a66f67d8d3d3",
   "metadata": {},
   "source": [
    "# Lecture 29: Laplace Expansion to Compute Determinant"
   ]
  },
  {
   "cell_type": "code",
   "execution_count": 5,
   "id": "7257c41a-6bfb-4493-bec2-91c2d06fc7d0",
   "metadata": {},
   "outputs": [
    {
     "data": {
      "text/plain": [
       "79.99999999999997"
      ]
     },
     "execution_count": 5,
     "metadata": {},
     "output_type": "execute_result"
    }
   ],
   "source": [
    "A = np.array([[1, 0, 0, -1],\n",
    "              [3, 0, 0, 5], \n",
    "              [2, 2, 4, 3],\n",
    "              [1, 0, 5, 0]])\n",
    "np.linalg.det(A)"
   ]
  },
  {
   "cell_type": "code",
   "execution_count": 6,
   "id": "3aae4ad2-553b-42c7-a34e-e7c294bb7949",
   "metadata": {},
   "outputs": [
    {
     "data": {
      "text/latex": [
       "$\\displaystyle 80$"
      ],
      "text/plain": [
       "80"
      ]
     },
     "execution_count": 6,
     "metadata": {},
     "output_type": "execute_result"
    }
   ],
   "source": [
    "sy.Matrix(A).det()"
   ]
  },
  {
   "cell_type": "markdown",
   "id": "a817f001-f32a-4833-beba-e7fa34a1d7b9",
   "metadata": {},
   "source": [
    "# Lecture 31: Properties of a Determinant "
   ]
  },
  {
   "cell_type": "markdown",
   "id": "c5f548c9-4891-4d02-8e9e-54fcfe7a6b1c",
   "metadata": {
    "tags": []
   },
   "source": [
    "**The determinant is a function that maps a square matrix to a scalar**.\n",
    "\n",
    "## Three main properties:\n",
    "\n",
    "- Property 1: $det(I) = 1$. \n",
    "- Property 2: determinant changes sign under row exchange.\n",
    "- Property 3: determinant is a linear function of the first row, holding all other rows fixed. "
   ]
  },
  {
   "cell_type": "markdown",
   "id": "1c83c6cc-0fa0-4c90-b995-ab4719281e24",
   "metadata": {},
   "source": [
    "**Examples:**\n",
    "\n",
    "- For property 2: $\\begin{vmatrix} a & b \\\\ c & d \\end{vmatrix} = - \\begin{vmatrix} c & d \\\\ a & b \\end{vmatrix}$.\n",
    "- For property 3: $\\begin{vmatrix} ka & kb \\\\ c & d \\end{vmatrix} = k \\begin{vmatrix} a & b \\\\ c & d \\end{vmatrix}$ and $\\begin{vmatrix} a + a^{'} & b + b^{'} \\\\ c & d \\end{vmatrix} = \\begin{vmatrix} a & b \\\\ c & d \\end{vmatrix} + \\begin{vmatrix} a^{'} & b^{'} \\\\ c & d \\end{vmatrix}$."
   ]
  },
  {
   "cell_type": "markdown",
   "id": "bc4f36f8-c0ba-40b7-b741-213f0ec9e941",
   "metadata": {
    "tags": []
   },
   "source": [
    "## Other useful properties:\n",
    "\n",
    "- The determinant is a linear function of any row, holding all other rows fixed.\n",
    "- $det(A) = 0$ if $A$ has two equal rows.\n",
    "- $det(A) = 0$ if $A$ has a row with all $0$'s. \n",
    "- $det(A) = 0$ if $A$ is singular or not invertible. \n",
    "- If we add $k$ times row-$i$ to row-$j$, the determinant doesn't change. *(Implies Gaussian elimination)*\n",
    "- The determinant of a diagonal, upper and lower triangular matrix is the product of the diagonal elements.\n",
    "- $det(AB) = det(A)det(B)$. \n",
    "- $det(A^{-1}) = \\frac{1}{det(A)}$. \n",
    "- $det(A^{T}) = det(A)$."
   ]
  },
  {
   "cell_type": "markdown",
   "id": "74511c2d-4214-4fad-bd9c-0eb55d5f4793",
   "metadata": {},
   "source": [
    "**Proof of property 5:** \n",
    "\n",
    "**Question:** $\\begin{vmatrix} a & b \\\\ c & d \\end{vmatrix} = \\begin{vmatrix} a + kc & b + kd \\\\ c & d \\end{vmatrix}$ ?\n",
    "\n",
    "**Answer:** $$\\begin{vmatrix} a + kc & b + kd \\\\ c & d \\end{vmatrix} = \\begin{vmatrix} a & b \\\\ c & d \\end{vmatrix} + \\begin{vmatrix} kc & kd \\\\ c & d \\end{vmatrix} = \\begin{vmatrix} a & b \\\\ c & d \\end{vmatrix} + k \\begin{vmatrix} c & d \\\\ c & d \\end{vmatrix} = \\begin{vmatrix} a & b \\\\ c & d \\end{vmatrix} + k \\times 0 = \\begin{vmatrix} a & b \\\\ c & d \\end{vmatrix}$$. "
   ]
  },
  {
   "cell_type": "code",
   "execution_count": 50,
   "id": "5e4d36eb-4074-4999-95a8-6d880bc0faa5",
   "metadata": {},
   "outputs": [],
   "source": [
    "def GaussianElimination(mat): \n",
    "    \"\"\"\n",
    "    Calculate Gaussian elimination form of a square matrix A. \n",
    "    \"\"\"\n",
    "    \n",
    "    n = mat.shape[0]\n",
    "    A = mat.copy()\n",
    "    \n",
    "    for i in range(n):\n",
    "        if i+1 < n:\n",
    "            for j in range(i+1,n):\n",
    "                factor = - A[j,i]/A[i,i]\n",
    "                A[j,:] = A[j,:] +  factor*A[i,:]  \n",
    "                \n",
    "    \n",
    "  \n",
    "    return A"
   ]
  },
  {
   "cell_type": "code",
   "execution_count": 51,
   "id": "c6943532-1b99-4078-aa7c-b47ea57ab78f",
   "metadata": {},
   "outputs": [
    {
     "data": {
      "text/plain": [
       "array([[ 2,  0, -1],\n",
       "       [ 0,  1,  2],\n",
       "       [ 0,  0,  3]])"
      ]
     },
     "execution_count": 51,
     "metadata": {},
     "output_type": "execute_result"
    }
   ],
   "source": [
    "B = np.array([[2, 0, -1], \n",
    "              [3, 1, 1],\n",
    "              [0, -1, 1]])\n",
    "GaussianElimination(B)"
   ]
  },
  {
   "cell_type": "markdown",
   "id": "ea064578-189c-4ac9-8e1a-f6771552927d",
   "metadata": {},
   "source": [
    "# Lecture 32: The Eigenvalue Problem"
   ]
  },
  {
   "cell_type": "markdown",
   "id": "348ecc97-11e1-4466-9223-f58cd9732ab1",
   "metadata": {},
   "source": [
    "$$Ax = \\lambda x$$\n",
    "$$Ax = \\lambda I x$$\n",
    "$$(A - \\lambda I)x = 0$$\n",
    "**Characteristic euqation:**$$det(A - \\lambda I) = 0$$\n",
    "This turns out to be a $n^{th}$-order polynomial equation of $\\lambda$."
   ]
  },
  {
   "cell_type": "markdown",
   "id": "eae03959-13c8-47ef-bd65-01b352c0e9db",
   "metadata": {},
   "source": [
    "# Lecture 33: Finding Eigenvalues and Eigenvectors "
   ]
  },
  {
   "cell_type": "code",
   "execution_count": 55,
   "id": "b89e851f-da4a-48bd-bcda-c2ce46fc230d",
   "metadata": {},
   "outputs": [],
   "source": [
    "A = np.array([[1, 1],\n",
    "             [-1, 1]]) \n",
    "evals, evecs = np.linalg.eig(A)"
   ]
  },
  {
   "cell_type": "code",
   "execution_count": 56,
   "id": "f4af6f99-d42b-4335-8763-0dbc9fb21fad",
   "metadata": {},
   "outputs": [
    {
     "data": {
      "text/plain": [
       "array([1.+1.j, 1.-1.j])"
      ]
     },
     "execution_count": 56,
     "metadata": {},
     "output_type": "execute_result"
    }
   ],
   "source": [
    "evals"
   ]
  },
  {
   "cell_type": "code",
   "execution_count": 57,
   "id": "1ac30db7-f339-4933-a415-c689da507419",
   "metadata": {},
   "outputs": [
    {
     "data": {
      "text/plain": [
       "array([[0.70710678+0.j        , 0.70710678-0.j        ],\n",
       "       [0.        +0.70710678j, 0.        -0.70710678j]])"
      ]
     },
     "execution_count": 57,
     "metadata": {},
     "output_type": "execute_result"
    }
   ],
   "source": [
    "evecs"
   ]
  },
  {
   "cell_type": "markdown",
   "id": "db0a1f35-00a8-4125-a294-63b6354b5ee7",
   "metadata": {},
   "source": [
    "# Lecture 35: Matrix Diagonalization"
   ]
  },
  {
   "cell_type": "markdown",
   "id": "d55073bb-34cf-49c2-9ab4-3759d4321612",
   "metadata": {},
   "source": [
    "Let $A$ be a $n \\times n$ matrix. We define $S$ to be the matrix whose columns are the eigenvectors of $A$. and $\\Lambda$ to be the diagonal matrix with eigenvalues down the diagonal. Therefore, we have:\n",
    "$$AS = S\\Lambda$$\n",
    "where $S$ is an invertible matrix. By multiplying $S^{-1}$ on both left and right sides of the equation, we have: \n",
    "$$\\Lambda = S^{-1}AS$$\n",
    "$$A = S\\Lambda S^{-1}$$"
   ]
  },
  {
   "cell_type": "code",
   "execution_count": 85,
   "id": "5178ae87-a2c8-41d0-beb7-c882f289d45b",
   "metadata": {},
   "outputs": [],
   "source": [
    "A = sy.MatrixSymbol(\"A\", 2, 2)\n",
    "(S, D) = sy.Matrix(A).diagonalize()"
   ]
  },
  {
   "cell_type": "code",
   "execution_count": 86,
   "id": "4141d2c4-66bf-4219-a820-b340c747335c",
   "metadata": {},
   "outputs": [
    {
     "data": {
      "text/latex": [
       "$\\displaystyle \\left[\\begin{matrix}- \\frac{2 A_{0, 1}}{\\sqrt{A_{0, 0}^{2} - 2 A_{0, 0} A_{1, 1} + 4 A_{0, 1} A_{1, 0} + A_{1, 1}^{2}} + A_{0, 0} - A_{1, 1}} & \\frac{2 A_{0, 1}}{\\sqrt{A_{0, 0}^{2} - 2 A_{0, 0} A_{1, 1} + 4 A_{0, 1} A_{1, 0} + A_{1, 1}^{2}} - A_{0, 0} + A_{1, 1}}\\\\1 & 1\\end{matrix}\\right]$"
      ],
      "text/plain": [
       "Matrix([\n",
       "[-2*A[0, 1]/(sqrt(A[0, 0]**2 - 2*A[0, 0]*A[1, 1] + 4*A[0, 1]*A[1, 0] + A[1, 1]**2) + A[0, 0] - A[1, 1]), 2*A[0, 1]/(sqrt(A[0, 0]**2 - 2*A[0, 0]*A[1, 1] + 4*A[0, 1]*A[1, 0] + A[1, 1]**2) - A[0, 0] + A[1, 1])],\n",
       "[                                                                                                     1,                                                                                                     1]])"
      ]
     },
     "execution_count": 86,
     "metadata": {},
     "output_type": "execute_result"
    }
   ],
   "source": [
    "S"
   ]
  },
  {
   "cell_type": "code",
   "execution_count": 87,
   "id": "3ef99d1a-8266-4b90-bd95-3a34160366ee",
   "metadata": {},
   "outputs": [
    {
     "data": {
      "text/latex": [
       "$\\displaystyle \\left[\\begin{array}{cc}A_{0, 0} & A_{0, 1}\\\\A_{1, 0} & A_{1, 1}\\end{array}\\right]$"
      ],
      "text/plain": [
       "Matrix([\n",
       "[A[0, 0], A[0, 1]],\n",
       "[A[1, 0], A[1, 1]]])"
      ]
     },
     "execution_count": 87,
     "metadata": {},
     "output_type": "execute_result"
    }
   ],
   "source": [
    "sy.Matrix(A)"
   ]
  },
  {
   "cell_type": "code",
   "execution_count": 88,
   "id": "0a802ea7-12c0-42cf-a7e3-cc894cee0339",
   "metadata": {},
   "outputs": [
    {
     "data": {
      "text/latex": [
       "$\\displaystyle \\left[\\begin{matrix}- \\frac{\\sqrt{\\left(A_{0, 0} + A_{1, 1}\\right)^{2} - 4 A_{0, 0} A_{1, 1} + 4 A_{0, 1} A_{1, 0}}}{2} + \\frac{A_{0, 0}}{2} + \\frac{A_{1, 1}}{2} & 0\\\\0 & \\frac{\\sqrt{\\left(A_{0, 0} + A_{1, 1}\\right)^{2} - 4 A_{0, 0} A_{1, 1} + 4 A_{0, 1} A_{1, 0}}}{2} + \\frac{A_{0, 0}}{2} + \\frac{A_{1, 1}}{2}\\end{matrix}\\right]$"
      ],
      "text/plain": [
       "Matrix([\n",
       "[-sqrt((A[0, 0] + A[1, 1])**2 - 4*A[0, 0]*A[1, 1] + 4*A[0, 1]*A[1, 0])/2 + A[0, 0]/2 + A[1, 1]/2,                                                                                              0],\n",
       "[                                                                                              0, sqrt((A[0, 0] + A[1, 1])**2 - 4*A[0, 0]*A[1, 1] + 4*A[0, 1]*A[1, 0])/2 + A[0, 0]/2 + A[1, 1]/2]])"
      ]
     },
     "execution_count": 88,
     "metadata": {},
     "output_type": "execute_result"
    }
   ],
   "source": [
    "D"
   ]
  },
  {
   "cell_type": "code",
   "execution_count": 89,
   "id": "3f2d620f-49fb-45b1-b483-454071e778c9",
   "metadata": {},
   "outputs": [
    {
     "data": {
      "text/latex": [
       "$\\displaystyle \\left[\\begin{array}{cc}A_{0, 0}^{2} + A_{0, 1} A_{1, 0} & A_{0, 0} A_{0, 1} + A_{0, 1} A_{1, 1}\\\\A_{0, 0} A_{1, 0} + A_{1, 0} A_{1, 1} & A_{0, 1} A_{1, 0} + A_{1, 1}^{2}\\end{array}\\right]$"
      ],
      "text/plain": [
       "Matrix([\n",
       "[     A[0, 0]**2 + A[0, 1]*A[1, 0], A[0, 0]*A[0, 1] + A[0, 1]*A[1, 1]],\n",
       "[A[0, 0]*A[1, 0] + A[1, 0]*A[1, 1],      A[0, 1]*A[1, 0] + A[1, 1]**2]])"
      ]
     },
     "execution_count": 89,
     "metadata": {},
     "output_type": "execute_result"
    }
   ],
   "source": [
    "# A^{2}\n",
    "sy.Matrix(A@A)"
   ]
  },
  {
   "cell_type": "code",
   "execution_count": 90,
   "id": "9c3afc00-493f-4227-9cc6-e4a869b71f62",
   "metadata": {},
   "outputs": [
    {
     "data": {
      "text/latex": [
       "$\\displaystyle \\left[\\begin{matrix}\\frac{2 \\left(- \\frac{\\sqrt{\\left(A_{0, 0} + A_{1, 1}\\right)^{2} - 4 A_{0, 0} A_{1, 1} + 4 A_{0, 1} A_{1, 0}}}{2} + \\frac{A_{0, 0}}{2} + \\frac{A_{1, 1}}{2}\\right)^{2} A_{0, 1} A_{1, 0}}{\\left(\\sqrt{A_{0, 0}^{2} - 2 A_{0, 0} A_{1, 1} + 4 A_{0, 1} A_{1, 0} + A_{1, 1}^{2}} + A_{0, 0} - A_{1, 1}\\right) \\sqrt{A_{0, 0}^{2} - 2 A_{0, 0} A_{1, 1} + 4 A_{0, 1} A_{1, 0} + A_{1, 1}^{2}}} + \\frac{2 \\left(\\frac{\\sqrt{\\left(A_{0, 0} + A_{1, 1}\\right)^{2} - 4 A_{0, 0} A_{1, 1} + 4 A_{0, 1} A_{1, 0}}}{2} + \\frac{A_{0, 0}}{2} + \\frac{A_{1, 1}}{2}\\right)^{2} A_{0, 1} A_{1, 0}}{\\left(\\sqrt{A_{0, 0}^{2} - 2 A_{0, 0} A_{1, 1} + 4 A_{0, 1} A_{1, 0} + A_{1, 1}^{2}} - A_{0, 0} + A_{1, 1}\\right) \\sqrt{A_{0, 0}^{2} - 2 A_{0, 0} A_{1, 1} + 4 A_{0, 1} A_{1, 0} + A_{1, 1}^{2}}} & - \\frac{2 \\left(- \\frac{\\sqrt{\\left(A_{0, 0} + A_{1, 1}\\right)^{2} - 4 A_{0, 0} A_{1, 1} + 4 A_{0, 1} A_{1, 0}}}{2} + \\frac{A_{0, 0}}{2} + \\frac{A_{1, 1}}{2}\\right)^{2} \\left(\\sqrt{A_{0, 0}^{2} - 2 A_{0, 0} A_{1, 1} + 4 A_{0, 1} A_{1, 0} + A_{1, 1}^{2}} A_{0, 0} - \\sqrt{A_{0, 0}^{2} - 2 A_{0, 0} A_{1, 1} + 4 A_{0, 1} A_{1, 0} + A_{1, 1}^{2}} A_{1, 1} + A_{0, 0}^{2} - 2 A_{0, 0} A_{1, 1} + 2 A_{0, 1} A_{1, 0} + A_{1, 1}^{2}\\right) A_{0, 1}}{\\left(\\sqrt{A_{0, 0}^{2} - 2 A_{0, 0} A_{1, 1} + 4 A_{0, 1} A_{1, 0} + A_{1, 1}^{2}} + A_{0, 0} - A_{1, 1}\\right) \\left(\\sqrt{A_{0, 0}^{2} - 2 A_{0, 0} A_{1, 1} + 4 A_{0, 1} A_{1, 0} + A_{1, 1}^{2}} A_{0, 0} - \\sqrt{A_{0, 0}^{2} - 2 A_{0, 0} A_{1, 1} + 4 A_{0, 1} A_{1, 0} + A_{1, 1}^{2}} A_{1, 1} + A_{0, 0}^{2} - 2 A_{0, 0} A_{1, 1} + 4 A_{0, 1} A_{1, 0} + A_{1, 1}^{2}\\right)} + \\frac{4 \\left(\\frac{\\sqrt{\\left(A_{0, 0} + A_{1, 1}\\right)^{2} - 4 A_{0, 0} A_{1, 1} + 4 A_{0, 1} A_{1, 0}}}{2} + \\frac{A_{0, 0}}{2} + \\frac{A_{1, 1}}{2}\\right)^{2} A_{0, 1}^{2} A_{1, 0}}{\\left(\\sqrt{A_{0, 0}^{2} - 2 A_{0, 0} A_{1, 1} + 4 A_{0, 1} A_{1, 0} + A_{1, 1}^{2}} - A_{0, 0} + A_{1, 1}\\right) \\left(\\sqrt{A_{0, 0}^{2} - 2 A_{0, 0} A_{1, 1} + 4 A_{0, 1} A_{1, 0} + A_{1, 1}^{2}} A_{0, 0} - \\sqrt{A_{0, 0}^{2} - 2 A_{0, 0} A_{1, 1} + 4 A_{0, 1} A_{1, 0} + A_{1, 1}^{2}} A_{1, 1} + A_{0, 0}^{2} - 2 A_{0, 0} A_{1, 1} + 4 A_{0, 1} A_{1, 0} + A_{1, 1}^{2}\\right)}\\\\- \\frac{\\left(- \\frac{\\sqrt{\\left(A_{0, 0} + A_{1, 1}\\right)^{2} - 4 A_{0, 0} A_{1, 1} + 4 A_{0, 1} A_{1, 0}}}{2} + \\frac{A_{0, 0}}{2} + \\frac{A_{1, 1}}{2}\\right)^{2} A_{1, 0}}{\\sqrt{A_{0, 0}^{2} - 2 A_{0, 0} A_{1, 1} + 4 A_{0, 1} A_{1, 0} + A_{1, 1}^{2}}} + \\frac{\\left(\\frac{\\sqrt{\\left(A_{0, 0} + A_{1, 1}\\right)^{2} - 4 A_{0, 0} A_{1, 1} + 4 A_{0, 1} A_{1, 0}}}{2} + \\frac{A_{0, 0}}{2} + \\frac{A_{1, 1}}{2}\\right)^{2} A_{1, 0}}{\\sqrt{A_{0, 0}^{2} - 2 A_{0, 0} A_{1, 1} + 4 A_{0, 1} A_{1, 0} + A_{1, 1}^{2}}} & \\frac{\\left(- \\frac{\\sqrt{\\left(A_{0, 0} + A_{1, 1}\\right)^{2} - 4 A_{0, 0} A_{1, 1} + 4 A_{0, 1} A_{1, 0}}}{2} + \\frac{A_{0, 0}}{2} + \\frac{A_{1, 1}}{2}\\right)^{2} \\left(\\sqrt{A_{0, 0}^{2} - 2 A_{0, 0} A_{1, 1} + 4 A_{0, 1} A_{1, 0} + A_{1, 1}^{2}} A_{0, 0} - \\sqrt{A_{0, 0}^{2} - 2 A_{0, 0} A_{1, 1} + 4 A_{0, 1} A_{1, 0} + A_{1, 1}^{2}} A_{1, 1} + A_{0, 0}^{2} - 2 A_{0, 0} A_{1, 1} + 2 A_{0, 1} A_{1, 0} + A_{1, 1}^{2}\\right)}{\\sqrt{A_{0, 0}^{2} - 2 A_{0, 0} A_{1, 1} + 4 A_{0, 1} A_{1, 0} + A_{1, 1}^{2}} A_{0, 0} - \\sqrt{A_{0, 0}^{2} - 2 A_{0, 0} A_{1, 1} + 4 A_{0, 1} A_{1, 0} + A_{1, 1}^{2}} A_{1, 1} + A_{0, 0}^{2} - 2 A_{0, 0} A_{1, 1} + 4 A_{0, 1} A_{1, 0} + A_{1, 1}^{2}} + \\frac{2 \\left(\\frac{\\sqrt{\\left(A_{0, 0} + A_{1, 1}\\right)^{2} - 4 A_{0, 0} A_{1, 1} + 4 A_{0, 1} A_{1, 0}}}{2} + \\frac{A_{0, 0}}{2} + \\frac{A_{1, 1}}{2}\\right)^{2} A_{0, 1} A_{1, 0}}{\\sqrt{A_{0, 0}^{2} - 2 A_{0, 0} A_{1, 1} + 4 A_{0, 1} A_{1, 0} + A_{1, 1}^{2}} A_{0, 0} - \\sqrt{A_{0, 0}^{2} - 2 A_{0, 0} A_{1, 1} + 4 A_{0, 1} A_{1, 0} + A_{1, 1}^{2}} A_{1, 1} + A_{0, 0}^{2} - 2 A_{0, 0} A_{1, 1} + 4 A_{0, 1} A_{1, 0} + A_{1, 1}^{2}}\\end{matrix}\\right]$"
      ],
      "text/plain": [
       "Matrix([\n",
       "[2*(-sqrt((A[0, 0] + A[1, 1])**2 - 4*A[0, 0]*A[1, 1] + 4*A[0, 1]*A[1, 0])/2 + A[0, 0]/2 + A[1, 1]/2)**2*A[0, 1]*A[1, 0]/((sqrt(A[0, 0]**2 - 2*A[0, 0]*A[1, 1] + 4*A[0, 1]*A[1, 0] + A[1, 1]**2) + A[0, 0] - A[1, 1])*sqrt(A[0, 0]**2 - 2*A[0, 0]*A[1, 1] + 4*A[0, 1]*A[1, 0] + A[1, 1]**2)) + 2*(sqrt((A[0, 0] + A[1, 1])**2 - 4*A[0, 0]*A[1, 1] + 4*A[0, 1]*A[1, 0])/2 + A[0, 0]/2 + A[1, 1]/2)**2*A[0, 1]*A[1, 0]/((sqrt(A[0, 0]**2 - 2*A[0, 0]*A[1, 1] + 4*A[0, 1]*A[1, 0] + A[1, 1]**2) - A[0, 0] + A[1, 1])*sqrt(A[0, 0]**2 - 2*A[0, 0]*A[1, 1] + 4*A[0, 1]*A[1, 0] + A[1, 1]**2)), -2*(-sqrt((A[0, 0] + A[1, 1])**2 - 4*A[0, 0]*A[1, 1] + 4*A[0, 1]*A[1, 0])/2 + A[0, 0]/2 + A[1, 1]/2)**2*(sqrt(A[0, 0]**2 - 2*A[0, 0]*A[1, 1] + 4*A[0, 1]*A[1, 0] + A[1, 1]**2)*A[0, 0] - sqrt(A[0, 0]**2 - 2*A[0, 0]*A[1, 1] + 4*A[0, 1]*A[1, 0] + A[1, 1]**2)*A[1, 1] + A[0, 0]**2 - 2*A[0, 0]*A[1, 1] + 2*A[0, 1]*A[1, 0] + A[1, 1]**2)*A[0, 1]/((sqrt(A[0, 0]**2 - 2*A[0, 0]*A[1, 1] + 4*A[0, 1]*A[1, 0] + A[1, 1]**2) + A[0, 0] - A[1, 1])*(sqrt(A[0, 0]**2 - 2*A[0, 0]*A[1, 1] + 4*A[0, 1]*A[1, 0] + A[1, 1]**2)*A[0, 0] - sqrt(A[0, 0]**2 - 2*A[0, 0]*A[1, 1] + 4*A[0, 1]*A[1, 0] + A[1, 1]**2)*A[1, 1] + A[0, 0]**2 - 2*A[0, 0]*A[1, 1] + 4*A[0, 1]*A[1, 0] + A[1, 1]**2)) + 4*(sqrt((A[0, 0] + A[1, 1])**2 - 4*A[0, 0]*A[1, 1] + 4*A[0, 1]*A[1, 0])/2 + A[0, 0]/2 + A[1, 1]/2)**2*A[0, 1]**2*A[1, 0]/((sqrt(A[0, 0]**2 - 2*A[0, 0]*A[1, 1] + 4*A[0, 1]*A[1, 0] + A[1, 1]**2) - A[0, 0] + A[1, 1])*(sqrt(A[0, 0]**2 - 2*A[0, 0]*A[1, 1] + 4*A[0, 1]*A[1, 0] + A[1, 1]**2)*A[0, 0] - sqrt(A[0, 0]**2 - 2*A[0, 0]*A[1, 1] + 4*A[0, 1]*A[1, 0] + A[1, 1]**2)*A[1, 1] + A[0, 0]**2 - 2*A[0, 0]*A[1, 1] + 4*A[0, 1]*A[1, 0] + A[1, 1]**2))],\n",
       "[                                                                                                                                                                                                               -(-sqrt((A[0, 0] + A[1, 1])**2 - 4*A[0, 0]*A[1, 1] + 4*A[0, 1]*A[1, 0])/2 + A[0, 0]/2 + A[1, 1]/2)**2*A[1, 0]/sqrt(A[0, 0]**2 - 2*A[0, 0]*A[1, 1] + 4*A[0, 1]*A[1, 0] + A[1, 1]**2) + (sqrt((A[0, 0] + A[1, 1])**2 - 4*A[0, 0]*A[1, 1] + 4*A[0, 1]*A[1, 0])/2 + A[0, 0]/2 + A[1, 1]/2)**2*A[1, 0]/sqrt(A[0, 0]**2 - 2*A[0, 0]*A[1, 1] + 4*A[0, 1]*A[1, 0] + A[1, 1]**2),                                                                                                                                                                                                           (-sqrt((A[0, 0] + A[1, 1])**2 - 4*A[0, 0]*A[1, 1] + 4*A[0, 1]*A[1, 0])/2 + A[0, 0]/2 + A[1, 1]/2)**2*(sqrt(A[0, 0]**2 - 2*A[0, 0]*A[1, 1] + 4*A[0, 1]*A[1, 0] + A[1, 1]**2)*A[0, 0] - sqrt(A[0, 0]**2 - 2*A[0, 0]*A[1, 1] + 4*A[0, 1]*A[1, 0] + A[1, 1]**2)*A[1, 1] + A[0, 0]**2 - 2*A[0, 0]*A[1, 1] + 2*A[0, 1]*A[1, 0] + A[1, 1]**2)/(sqrt(A[0, 0]**2 - 2*A[0, 0]*A[1, 1] + 4*A[0, 1]*A[1, 0] + A[1, 1]**2)*A[0, 0] - sqrt(A[0, 0]**2 - 2*A[0, 0]*A[1, 1] + 4*A[0, 1]*A[1, 0] + A[1, 1]**2)*A[1, 1] + A[0, 0]**2 - 2*A[0, 0]*A[1, 1] + 4*A[0, 1]*A[1, 0] + A[1, 1]**2) + 2*(sqrt((A[0, 0] + A[1, 1])**2 - 4*A[0, 0]*A[1, 1] + 4*A[0, 1]*A[1, 0])/2 + A[0, 0]/2 + A[1, 1]/2)**2*A[0, 1]*A[1, 0]/(sqrt(A[0, 0]**2 - 2*A[0, 0]*A[1, 1] + 4*A[0, 1]*A[1, 0] + A[1, 1]**2)*A[0, 0] - sqrt(A[0, 0]**2 - 2*A[0, 0]*A[1, 1] + 4*A[0, 1]*A[1, 0] + A[1, 1]**2)*A[1, 1] + A[0, 0]**2 - 2*A[0, 0]*A[1, 1] + 4*A[0, 1]*A[1, 0] + A[1, 1]**2)]])"
      ]
     },
     "execution_count": 90,
     "metadata": {},
     "output_type": "execute_result"
    }
   ],
   "source": [
    "# SxD^{2}xS^{-1} \n",
    "sy.Matrix(S@D@D@S.inv())"
   ]
  },
  {
   "cell_type": "code",
   "execution_count": 91,
   "id": "127e32a3-053d-4e75-ae35-0607cbe79115",
   "metadata": {},
   "outputs": [
    {
     "data": {
      "text/latex": [
       "$\\displaystyle \\left[\\begin{matrix}- \\frac{A_{1, 0}}{\\sqrt{A_{0, 0}^{2} - 2 A_{0, 0} A_{1, 1} + 4 A_{0, 1} A_{1, 0} + A_{1, 1}^{2}}} & \\frac{\\sqrt{A_{0, 0}^{2} - 2 A_{0, 0} A_{1, 1} + 4 A_{0, 1} A_{1, 0} + A_{1, 1}^{2}} A_{0, 0} - \\sqrt{A_{0, 0}^{2} - 2 A_{0, 0} A_{1, 1} + 4 A_{0, 1} A_{1, 0} + A_{1, 1}^{2}} A_{1, 1} + A_{0, 0}^{2} - 2 A_{0, 0} A_{1, 1} + 2 A_{0, 1} A_{1, 0} + A_{1, 1}^{2}}{\\sqrt{A_{0, 0}^{2} - 2 A_{0, 0} A_{1, 1} + 4 A_{0, 1} A_{1, 0} + A_{1, 1}^{2}} A_{0, 0} - \\sqrt{A_{0, 0}^{2} - 2 A_{0, 0} A_{1, 1} + 4 A_{0, 1} A_{1, 0} + A_{1, 1}^{2}} A_{1, 1} + A_{0, 0}^{2} - 2 A_{0, 0} A_{1, 1} + 4 A_{0, 1} A_{1, 0} + A_{1, 1}^{2}}\\\\\\frac{A_{1, 0}}{\\sqrt{A_{0, 0}^{2} - 2 A_{0, 0} A_{1, 1} + 4 A_{0, 1} A_{1, 0} + A_{1, 1}^{2}}} & \\frac{2 A_{0, 1} A_{1, 0}}{\\sqrt{A_{0, 0}^{2} - 2 A_{0, 0} A_{1, 1} + 4 A_{0, 1} A_{1, 0} + A_{1, 1}^{2}} A_{0, 0} - \\sqrt{A_{0, 0}^{2} - 2 A_{0, 0} A_{1, 1} + 4 A_{0, 1} A_{1, 0} + A_{1, 1}^{2}} A_{1, 1} + A_{0, 0}^{2} - 2 A_{0, 0} A_{1, 1} + 4 A_{0, 1} A_{1, 0} + A_{1, 1}^{2}}\\end{matrix}\\right]$"
      ],
      "text/plain": [
       "Matrix([\n",
       "[-A[1, 0]/sqrt(A[0, 0]**2 - 2*A[0, 0]*A[1, 1] + 4*A[0, 1]*A[1, 0] + A[1, 1]**2), (sqrt(A[0, 0]**2 - 2*A[0, 0]*A[1, 1] + 4*A[0, 1]*A[1, 0] + A[1, 1]**2)*A[0, 0] - sqrt(A[0, 0]**2 - 2*A[0, 0]*A[1, 1] + 4*A[0, 1]*A[1, 0] + A[1, 1]**2)*A[1, 1] + A[0, 0]**2 - 2*A[0, 0]*A[1, 1] + 2*A[0, 1]*A[1, 0] + A[1, 1]**2)/(sqrt(A[0, 0]**2 - 2*A[0, 0]*A[1, 1] + 4*A[0, 1]*A[1, 0] + A[1, 1]**2)*A[0, 0] - sqrt(A[0, 0]**2 - 2*A[0, 0]*A[1, 1] + 4*A[0, 1]*A[1, 0] + A[1, 1]**2)*A[1, 1] + A[0, 0]**2 - 2*A[0, 0]*A[1, 1] + 4*A[0, 1]*A[1, 0] + A[1, 1]**2)],\n",
       "[ A[1, 0]/sqrt(A[0, 0]**2 - 2*A[0, 0]*A[1, 1] + 4*A[0, 1]*A[1, 0] + A[1, 1]**2),                                                                                                                                                                                                                 2*A[0, 1]*A[1, 0]/(sqrt(A[0, 0]**2 - 2*A[0, 0]*A[1, 1] + 4*A[0, 1]*A[1, 0] + A[1, 1]**2)*A[0, 0] - sqrt(A[0, 0]**2 - 2*A[0, 0]*A[1, 1] + 4*A[0, 1]*A[1, 0] + A[1, 1]**2)*A[1, 1] + A[0, 0]**2 - 2*A[0, 0]*A[1, 1] + 4*A[0, 1]*A[1, 0] + A[1, 1]**2)]])"
      ]
     },
     "execution_count": 91,
     "metadata": {},
     "output_type": "execute_result"
    }
   ],
   "source": [
    "S.inv()"
   ]
  },
  {
   "cell_type": "code",
   "execution_count": null,
   "id": "ff3f4ff2-0828-4e27-b44b-0c02b2fe67d7",
   "metadata": {},
   "outputs": [],
   "source": []
  }
 ],
 "metadata": {
  "kernelspec": {
   "display_name": "Python 3 (ipykernel)",
   "language": "python",
   "name": "python3"
  },
  "language_info": {
   "codemirror_mode": {
    "name": "ipython",
    "version": 3
   },
   "file_extension": ".py",
   "mimetype": "text/x-python",
   "name": "python",
   "nbconvert_exporter": "python",
   "pygments_lexer": "ipython3",
   "version": "3.8.10"
  },
  "toc-autonumbering": true
 },
 "nbformat": 4,
 "nbformat_minor": 5
}
