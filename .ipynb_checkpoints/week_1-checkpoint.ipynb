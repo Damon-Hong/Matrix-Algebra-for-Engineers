{
 "cells": [
  {
   "cell_type": "markdown",
   "id": "4302795a-d8e0-469c-a293-45e9d2bd85fe",
   "metadata": {
    "tags": []
   },
   "source": [
    "# Lecture 1:"
   ]
  },
  {
   "cell_type": "code",
   "execution_count": 2,
   "id": "768a0228-193b-4644-b36e-efbe88953ded",
   "metadata": {},
   "outputs": [],
   "source": [
    "import numpy as np \n",
    "import sympy as sy"
   ]
  },
  {
   "cell_type": "code",
   "execution_count": 2,
   "id": "6067dae1-2543-45e9-a41f-7bcd399192c6",
   "metadata": {},
   "outputs": [
    {
     "data": {
      "text/plain": [
       "array([[1, 0, 0],\n",
       "       [0, 1, 0],\n",
       "       [0, 0, 1]])"
      ]
     },
     "execution_count": 2,
     "metadata": {},
     "output_type": "execute_result"
    }
   ],
   "source": [
    "A = np.diag([1, 1, 1])\n",
    "A "
   ]
  },
  {
   "cell_type": "code",
   "execution_count": 3,
   "id": "777470b2-0a92-4101-9e05-69fc4d2c0333",
   "metadata": {},
   "outputs": [
    {
     "data": {
      "text/plain": [
       "array([[1, 0, 0, 0],\n",
       "       [0, 1, 0, 0],\n",
       "       [0, 0, 1, 0]])"
      ]
     },
     "execution_count": 3,
     "metadata": {},
     "output_type": "execute_result"
    }
   ],
   "source": [
    "B = np.array([[1,0,0,0],\n",
    "              [0,1,0,0],\n",
    "              [0,0,1,0]])\n",
    "B"
   ]
  },
  {
   "cell_type": "code",
   "execution_count": 4,
   "id": "bb688293-74ee-4c08-bbb2-358de4b0fcee",
   "metadata": {},
   "outputs": [
    {
     "data": {
      "text/plain": [
       "array([[1, 0, 0],\n",
       "       [0, 1, 0],\n",
       "       [0, 0, 1],\n",
       "       [0, 0, 0]])"
      ]
     },
     "execution_count": 4,
     "metadata": {},
     "output_type": "execute_result"
    }
   ],
   "source": [
    "C = np.array([[1,0,0],\n",
    "              [0,1,0],\n",
    "              [0,0,1],\n",
    "              [0,0,0]])\n",
    "C"
   ]
  },
  {
   "cell_type": "markdown",
   "id": "242071f0-4779-4301-b589-4e740da5a50f",
   "metadata": {},
   "source": [
    "# Lecture 2:"
   ]
  },
  {
   "cell_type": "code",
   "execution_count": 5,
   "id": "c679008e-8e9a-4788-8983-47566165dd25",
   "metadata": {},
   "outputs": [],
   "source": [
    "A = np.array([[2, 1, -1], \n",
    "              [1, -1, 1]])\n",
    "\n",
    "B = np.array([[4, -2, 1], \n",
    "              [2, -4, -2]])\n",
    "\n",
    "C = np.array([[1,2],\n",
    "              [2,1]])\n",
    "\n",
    "D = np.array([[3, 4],\n",
    "              [4, 3]])\n",
    "\n",
    "E = np.array([[1],\n",
    "              [2]])"
   ]
  },
  {
   "cell_type": "code",
   "execution_count": 6,
   "id": "fd3b7fdf-1011-4576-a37d-1e818d1541e1",
   "metadata": {},
   "outputs": [
    {
     "data": {
      "text/plain": [
       "array([[ 0, -4,  3],\n",
       "       [ 0, -2, -4]])"
      ]
     },
     "execution_count": 6,
     "metadata": {},
     "output_type": "execute_result"
    }
   ],
   "source": [
    "B - 2*A"
   ]
  },
  {
   "cell_type": "code",
   "execution_count": 7,
   "id": "27685da3-7c7d-4b9b-84ad-4bcab6cc37a9",
   "metadata": {},
   "outputs": [
    {
     "data": {
      "text/plain": [
       "array([[11, 10],\n",
       "       [10, 11]])"
      ]
     },
     "execution_count": 7,
     "metadata": {},
     "output_type": "execute_result"
    }
   ],
   "source": [
    "C@D"
   ]
  },
  {
   "cell_type": "code",
   "execution_count": 8,
   "id": "6f49ba08-3522-4166-8459-767e52690ffc",
   "metadata": {},
   "outputs": [
    {
     "data": {
      "text/plain": [
       "array([[  8, -10,  -3],\n",
       "       [ 10,  -8,   0]])"
      ]
     },
     "execution_count": 8,
     "metadata": {},
     "output_type": "execute_result"
    }
   ],
   "source": [
    "C@B"
   ]
  },
  {
   "cell_type": "code",
   "execution_count": 9,
   "id": "b53105a2-0a6a-4256-83b0-7358ecc6a57f",
   "metadata": {},
   "outputs": [],
   "source": [
    "A = np.array([[1,2],\n",
    "              [2,4]])\n",
    "\n",
    "B = np.array([[2,1],\n",
    "              [1,3]])\n",
    "\n",
    "C = np.array([[4,3],\n",
    "              [0,2]])"
   ]
  },
  {
   "cell_type": "code",
   "execution_count": 10,
   "id": "c3dce485-f700-404f-9d3e-cfe73c1bd0b9",
   "metadata": {},
   "outputs": [
    {
     "data": {
      "text/plain": [
       "array([[ 4,  7],\n",
       "       [ 8, 14]])"
      ]
     },
     "execution_count": 10,
     "metadata": {},
     "output_type": "execute_result"
    }
   ],
   "source": [
    "A@B"
   ]
  },
  {
   "cell_type": "code",
   "execution_count": 11,
   "id": "8a357957-1e52-476b-be9f-91ece792c7da",
   "metadata": {},
   "outputs": [
    {
     "data": {
      "text/plain": [
       "array([[ 4,  7],\n",
       "       [ 8, 14]])"
      ]
     },
     "execution_count": 11,
     "metadata": {},
     "output_type": "execute_result"
    }
   ],
   "source": [
    "A@C"
   ]
  },
  {
   "cell_type": "code",
   "execution_count": 12,
   "id": "18b861c4-64a8-427f-8c80-ce7654c56858",
   "metadata": {},
   "outputs": [],
   "source": [
    "m = 2\n",
    "n = 2\n",
    "p = 2\n",
    "q = 2\n",
    "\n",
    "A = sy.MatrixSymbol(\"A\", m, n) \n",
    "B = sy.MatrixSymbol(\"B\", n, p) \n",
    "C = sy.MatrixSymbol(\"C\", p, q) "
   ]
  },
  {
   "cell_type": "code",
   "execution_count": 13,
   "id": "0755fd32-8468-4acc-b150-075f1aa0a116",
   "metadata": {
    "tags": []
   },
   "outputs": [
    {
     "data": {
      "text/latex": [
       "$\\displaystyle \\left[\\begin{array}{cc}B_{0, 0} C_{0, 0} + B_{0, 1} C_{1, 0} & B_{0, 0} C_{0, 1} + B_{0, 1} C_{1, 1}\\\\B_{1, 0} C_{0, 0} + B_{1, 1} C_{1, 0} & B_{1, 0} C_{0, 1} + B_{1, 1} C_{1, 1}\\end{array}\\right]$"
      ],
      "text/plain": [
       "Matrix([\n",
       "[B[0, 0]*C[0, 0] + B[0, 1]*C[1, 0], B[0, 0]*C[0, 1] + B[0, 1]*C[1, 1]],\n",
       "[B[1, 0]*C[0, 0] + B[1, 1]*C[1, 0], B[1, 0]*C[0, 1] + B[1, 1]*C[1, 1]]])"
      ]
     },
     "execution_count": 13,
     "metadata": {},
     "output_type": "execute_result"
    }
   ],
   "source": [
    "sy.Matrix(B@C)"
   ]
  },
  {
   "cell_type": "code",
   "execution_count": 14,
   "id": "da57228f-dd35-4fa5-a0ba-12d4323be61f",
   "metadata": {},
   "outputs": [
    {
     "data": {
      "text/latex": [
       "$\\displaystyle \\left[\\begin{array}{cc}\\left(A_{0, 0} B_{0, 0} + A_{0, 1} B_{1, 0}\\right) C_{0, 0} + \\left(A_{0, 0} B_{0, 1} + A_{0, 1} B_{1, 1}\\right) C_{1, 0} & \\left(A_{0, 0} B_{0, 0} + A_{0, 1} B_{1, 0}\\right) C_{0, 1} + \\left(A_{0, 0} B_{0, 1} + A_{0, 1} B_{1, 1}\\right) C_{1, 1}\\\\\\left(A_{1, 0} B_{0, 0} + A_{1, 1} B_{1, 0}\\right) C_{0, 0} + \\left(A_{1, 0} B_{0, 1} + A_{1, 1} B_{1, 1}\\right) C_{1, 0} & \\left(A_{1, 0} B_{0, 0} + A_{1, 1} B_{1, 0}\\right) C_{0, 1} + \\left(A_{1, 0} B_{0, 1} + A_{1, 1} B_{1, 1}\\right) C_{1, 1}\\end{array}\\right]$"
      ],
      "text/plain": [
       "Matrix([\n",
       "[(A[0, 0]*B[0, 0] + A[0, 1]*B[1, 0])*C[0, 0] + (A[0, 0]*B[0, 1] + A[0, 1]*B[1, 1])*C[1, 0], (A[0, 0]*B[0, 0] + A[0, 1]*B[1, 0])*C[0, 1] + (A[0, 0]*B[0, 1] + A[0, 1]*B[1, 1])*C[1, 1]],\n",
       "[(A[1, 0]*B[0, 0] + A[1, 1]*B[1, 0])*C[0, 0] + (A[1, 0]*B[0, 1] + A[1, 1]*B[1, 1])*C[1, 0], (A[1, 0]*B[0, 0] + A[1, 1]*B[1, 0])*C[0, 1] + (A[1, 0]*B[0, 1] + A[1, 1]*B[1, 1])*C[1, 1]]])"
      ]
     },
     "execution_count": 14,
     "metadata": {},
     "output_type": "execute_result"
    }
   ],
   "source": [
    "sy.Matrix(A@(B@C))"
   ]
  },
  {
   "cell_type": "code",
   "execution_count": 15,
   "id": "dc94e0dc-1443-4215-ab31-a52f8cf30ddf",
   "metadata": {},
   "outputs": [
    {
     "data": {
      "text/latex": [
       "$\\displaystyle \\left[\\begin{array}{cc}\\left(A_{0, 0} B_{0, 0} + A_{0, 1} B_{1, 0}\\right) C_{0, 0} + \\left(A_{0, 0} B_{0, 1} + A_{0, 1} B_{1, 1}\\right) C_{1, 0} & \\left(A_{0, 0} B_{0, 0} + A_{0, 1} B_{1, 0}\\right) C_{0, 1} + \\left(A_{0, 0} B_{0, 1} + A_{0, 1} B_{1, 1}\\right) C_{1, 1}\\\\\\left(A_{1, 0} B_{0, 0} + A_{1, 1} B_{1, 0}\\right) C_{0, 0} + \\left(A_{1, 0} B_{0, 1} + A_{1, 1} B_{1, 1}\\right) C_{1, 0} & \\left(A_{1, 0} B_{0, 0} + A_{1, 1} B_{1, 0}\\right) C_{0, 1} + \\left(A_{1, 0} B_{0, 1} + A_{1, 1} B_{1, 1}\\right) C_{1, 1}\\end{array}\\right]$"
      ],
      "text/plain": [
       "Matrix([\n",
       "[(A[0, 0]*B[0, 0] + A[0, 1]*B[1, 0])*C[0, 0] + (A[0, 0]*B[0, 1] + A[0, 1]*B[1, 1])*C[1, 0], (A[0, 0]*B[0, 0] + A[0, 1]*B[1, 0])*C[0, 1] + (A[0, 0]*B[0, 1] + A[0, 1]*B[1, 1])*C[1, 1]],\n",
       "[(A[1, 0]*B[0, 0] + A[1, 1]*B[1, 0])*C[0, 0] + (A[1, 0]*B[0, 1] + A[1, 1]*B[1, 1])*C[1, 0], (A[1, 0]*B[0, 0] + A[1, 1]*B[1, 0])*C[0, 1] + (A[1, 0]*B[0, 1] + A[1, 1]*B[1, 1])*C[1, 1]]])"
      ]
     },
     "execution_count": 15,
     "metadata": {},
     "output_type": "execute_result"
    }
   ],
   "source": [
    "sy.Matrix((A@B)@C)"
   ]
  },
  {
   "cell_type": "markdown",
   "id": "add11830-1645-4511-8162-3347fc04a8d9",
   "metadata": {},
   "source": [
    "# Lecture 3:"
   ]
  },
  {
   "cell_type": "code",
   "execution_count": 16,
   "id": "3897922f-9bb0-4161-a461-3ec032a212eb",
   "metadata": {},
   "outputs": [
    {
     "data": {
      "text/plain": [
       "1"
      ]
     },
     "execution_count": 16,
     "metadata": {},
     "output_type": "execute_result"
    }
   ],
   "source": [
    "A = np.array([[-1, 2], \n",
    "              [4, -8]])\n",
    "np.linalg.matrix_rank(A.T@A)"
   ]
  },
  {
   "cell_type": "code",
   "execution_count": 17,
   "id": "db57fc5c-ea7f-40ad-9b1c-8e7933d70735",
   "metadata": {},
   "outputs": [],
   "source": [
    "B = np.array([[4,2],\n",
    "              [2,1]])"
   ]
  },
  {
   "cell_type": "code",
   "execution_count": 18,
   "id": "7a2452f3-90d1-4da7-8930-70817f1a43e8",
   "metadata": {},
   "outputs": [
    {
     "data": {
      "text/plain": [
       "array([[0, 0],\n",
       "       [0, 0]])"
      ]
     },
     "execution_count": 18,
     "metadata": {},
     "output_type": "execute_result"
    }
   ],
   "source": [
    "A@B"
   ]
  },
  {
   "cell_type": "markdown",
   "id": "6d92bb49-6573-4f0c-809d-bf9bb94a1150",
   "metadata": {},
   "source": [
    "# Lecture 4:"
   ]
  },
  {
   "cell_type": "code",
   "execution_count": 19,
   "id": "913bb312-ad6d-4070-9011-da5a928bc328",
   "metadata": {},
   "outputs": [],
   "source": [
    "A = sy.MatrixSymbol(\"A\", 2, 2)\n",
    "B = sy.MatrixSymbol(\"B\", 2, 2)"
   ]
  },
  {
   "cell_type": "code",
   "execution_count": 20,
   "id": "ce7d5812-fd04-417d-8f28-603755a49682",
   "metadata": {},
   "outputs": [
    {
     "data": {
      "text/latex": [
       "$\\displaystyle \\left[\\begin{array}{cc}A_{0, 0} B_{0, 0} + A_{0, 1} B_{1, 0} & A_{1, 0} B_{0, 0} + A_{1, 1} B_{1, 0}\\\\A_{0, 0} B_{0, 1} + A_{0, 1} B_{1, 1} & A_{1, 0} B_{0, 1} + A_{1, 1} B_{1, 1}\\end{array}\\right]$"
      ],
      "text/plain": [
       "Matrix([\n",
       "[A[0, 0]*B[0, 0] + A[0, 1]*B[1, 0], A[1, 0]*B[0, 0] + A[1, 1]*B[1, 0]],\n",
       "[A[0, 0]*B[0, 1] + A[0, 1]*B[1, 1], A[1, 0]*B[0, 1] + A[1, 1]*B[1, 1]]])"
      ]
     },
     "execution_count": 20,
     "metadata": {},
     "output_type": "execute_result"
    }
   ],
   "source": [
    "sy.Matrix((A@B).T)"
   ]
  },
  {
   "cell_type": "code",
   "execution_count": 21,
   "id": "2837f12c-e22d-46d3-8b8b-e84757fe5196",
   "metadata": {},
   "outputs": [
    {
     "data": {
      "text/latex": [
       "$\\displaystyle \\left[\\begin{array}{cc}A_{0, 0} B_{0, 0} + A_{0, 1} B_{1, 0} & A_{1, 0} B_{0, 0} + A_{1, 1} B_{1, 0}\\\\A_{0, 0} B_{0, 1} + A_{0, 1} B_{1, 1} & A_{1, 0} B_{0, 1} + A_{1, 1} B_{1, 1}\\end{array}\\right]$"
      ],
      "text/plain": [
       "Matrix([\n",
       "[A[0, 0]*B[0, 0] + A[0, 1]*B[1, 0], A[1, 0]*B[0, 0] + A[1, 1]*B[1, 0]],\n",
       "[A[0, 0]*B[0, 1] + A[0, 1]*B[1, 1], A[1, 0]*B[0, 1] + A[1, 1]*B[1, 1]]])"
      ]
     },
     "execution_count": 21,
     "metadata": {},
     "output_type": "execute_result"
    }
   ],
   "source": [
    "sy.Matrix(B.T@A.T)"
   ]
  },
  {
   "cell_type": "code",
   "execution_count": 22,
   "id": "af1c6193-c6f6-4a19-b242-ee4d4eead2c1",
   "metadata": {},
   "outputs": [
    {
     "data": {
      "text/latex": [
       "$\\displaystyle \\left[\\begin{array}{cc}A_{0, 0} & A_{0, 1}\\\\A_{1, 0} & A_{1, 1}\\end{array}\\right]$"
      ],
      "text/plain": [
       "Matrix([\n",
       "[A[0, 0], A[0, 1]],\n",
       "[A[1, 0], A[1, 1]]])"
      ]
     },
     "execution_count": 22,
     "metadata": {},
     "output_type": "execute_result"
    }
   ],
   "source": [
    "sy.Matrix(A)\n",
    "# sy.Matrix(B)"
   ]
  },
  {
   "cell_type": "markdown",
   "id": "f2d4e56a-8147-4f99-9ef7-a48462087c39",
   "metadata": {},
   "source": [
    "## Proposition 1: \n",
    "For any square matrix $A$, $ A + A^{T} $ is a symmetric matrix, and $A - A^{T}$ is a skew symmetric matrix."
   ]
  },
  {
   "cell_type": "markdown",
   "id": "52b9d2ca-a598-45c5-897d-2cddc8133fea",
   "metadata": {},
   "source": [
    "**Definition of symmetric matrix:**\n",
    "$$A^{T} = A$$\n",
    "**Definition of skew symmetric matrix:**\n",
    "$$A^{T} = -A$$"
   ]
  },
  {
   "cell_type": "code",
   "execution_count": 23,
   "id": "516facb0-184d-41c8-88fd-bb7be34a02c0",
   "metadata": {},
   "outputs": [
    {
     "data": {
      "text/latex": [
       "$\\displaystyle \\left[\\begin{array}{cc}2 A_{0, 0} & A_{0, 1} + A_{1, 0}\\\\A_{0, 1} + A_{1, 0} & 2 A_{1, 1}\\end{array}\\right]$"
      ],
      "text/plain": [
       "Matrix([\n",
       "[        2*A[0, 0], A[0, 1] + A[1, 0]],\n",
       "[A[0, 1] + A[1, 0],         2*A[1, 1]]])"
      ]
     },
     "execution_count": 23,
     "metadata": {},
     "output_type": "execute_result"
    }
   ],
   "source": [
    "sy.Matrix(A + A.T)"
   ]
  },
  {
   "cell_type": "code",
   "execution_count": 24,
   "id": "e9eace06-d65f-445c-b0fd-95569aee78a3",
   "metadata": {},
   "outputs": [
    {
     "data": {
      "text/latex": [
       "$\\displaystyle \\left[\\begin{array}{cc}0 & A_{0, 1} - A_{1, 0}\\\\- A_{0, 1} + A_{1, 0} & 0\\end{array}\\right]$"
      ],
      "text/plain": [
       "Matrix([\n",
       "[                 0, A[0, 1] - A[1, 0]],\n",
       "[-A[0, 1] + A[1, 0],                 0]])"
      ]
     },
     "execution_count": 24,
     "metadata": {},
     "output_type": "execute_result"
    }
   ],
   "source": [
    "sy.Matrix(A - A.T)"
   ]
  },
  {
   "cell_type": "markdown",
   "id": "b2317716-0aef-4118-89f3-5acdccea6576",
   "metadata": {},
   "source": [
    "## Proposition 2:\n",
    "For any matrix $A$, $A^{T}A$ and $AA^{T}$ are both symmetric matrices.\n",
    "\n",
    "**Proof:**\n",
    "$$ (A^{T}A)^{T} = A^{T}(A^{T})^{T} = A^{T}A $$\n",
    "\n",
    "and\n",
    "$$ (AA^{T})^{T} = (A^{T})^{T}A^{T} = AA^{T} $$"
   ]
  },
  {
   "cell_type": "code",
   "execution_count": 25,
   "id": "d7a4dcc6-6c66-4c66-8144-ec4d677e5de6",
   "metadata": {},
   "outputs": [
    {
     "data": {
      "text/latex": [
       "$\\displaystyle \\left[\\begin{array}{cc}A_{0, 0}^{2} + A_{1, 0}^{2} & A_{0, 0} A_{0, 1} + A_{1, 0} A_{1, 1}\\\\A_{0, 0} A_{0, 1} + A_{1, 0} A_{1, 1} & A_{0, 1}^{2} + A_{1, 1}^{2}\\end{array}\\right]$"
      ],
      "text/plain": [
       "Matrix([\n",
       "[          A[0, 0]**2 + A[1, 0]**2, A[0, 0]*A[0, 1] + A[1, 0]*A[1, 1]],\n",
       "[A[0, 0]*A[0, 1] + A[1, 0]*A[1, 1],           A[0, 1]**2 + A[1, 1]**2]])"
      ]
     },
     "execution_count": 25,
     "metadata": {},
     "output_type": "execute_result"
    }
   ],
   "source": [
    "sy.Matrix(A.T@A)"
   ]
  },
  {
   "cell_type": "code",
   "execution_count": 26,
   "id": "0544ef68-577b-47a4-b6b5-0e1421f22ff6",
   "metadata": {},
   "outputs": [
    {
     "data": {
      "text/latex": [
       "$\\displaystyle \\left[\\begin{array}{cc}A_{0, 0}^{2} + A_{0, 1}^{2} & A_{0, 0} A_{1, 0} + A_{0, 1} A_{1, 1}\\\\A_{0, 0} A_{1, 0} + A_{0, 1} A_{1, 1} & A_{1, 0}^{2} + A_{1, 1}^{2}\\end{array}\\right]$"
      ],
      "text/plain": [
       "Matrix([\n",
       "[          A[0, 0]**2 + A[0, 1]**2, A[0, 0]*A[1, 0] + A[0, 1]*A[1, 1]],\n",
       "[A[0, 0]*A[1, 0] + A[0, 1]*A[1, 1],           A[1, 0]**2 + A[1, 1]**2]])"
      ]
     },
     "execution_count": 26,
     "metadata": {},
     "output_type": "execute_result"
    }
   ],
   "source": [
    "sy.Matrix(A@A.T)"
   ]
  },
  {
   "cell_type": "markdown",
   "id": "8537a330-34a7-4bbf-a5f7-6a58a9b24272",
   "metadata": {},
   "source": [
    "# Lecture 5: Inner and outer product of vectors"
   ]
  },
  {
   "cell_type": "markdown",
   "id": "98f0e344-f92f-4a15-81bd-56bcf8218bb2",
   "metadata": {},
   "source": [
    "## Proposition 3:\n",
    "Trace of $A^{T}A$, which is denoted as $tr(A^{T}A)$ is the sum of the squares of all the elements of $A$."
   ]
  },
  {
   "cell_type": "code",
   "execution_count": 27,
   "id": "0e68dfcd-6d4f-4ef3-93ab-9214dd7b42d7",
   "metadata": {},
   "outputs": [
    {
     "data": {
      "text/latex": [
       "$\\displaystyle \\left[\\begin{array}{cc}A_{0, 0} & A_{0, 1}\\\\A_{1, 0} & A_{1, 1}\\end{array}\\right]$"
      ],
      "text/plain": [
       "Matrix([\n",
       "[A[0, 0], A[0, 1]],\n",
       "[A[1, 0], A[1, 1]]])"
      ]
     },
     "execution_count": 27,
     "metadata": {},
     "output_type": "execute_result"
    }
   ],
   "source": [
    "sy.Matrix(A)"
   ]
  },
  {
   "cell_type": "code",
   "execution_count": 28,
   "id": "ab383666-5cde-440e-867a-45070833a0d4",
   "metadata": {},
   "outputs": [
    {
     "data": {
      "text/latex": [
       "$\\displaystyle \\left[\\begin{array}{cc}A_{0, 0}^{2} + A_{1, 0}^{2} & A_{0, 0} A_{0, 1} + A_{1, 0} A_{1, 1}\\\\A_{0, 0} A_{0, 1} + A_{1, 0} A_{1, 1} & A_{0, 1}^{2} + A_{1, 1}^{2}\\end{array}\\right]$"
      ],
      "text/plain": [
       "Matrix([\n",
       "[          A[0, 0]**2 + A[1, 0]**2, A[0, 0]*A[0, 1] + A[1, 0]*A[1, 1]],\n",
       "[A[0, 0]*A[0, 1] + A[1, 0]*A[1, 1],           A[0, 1]**2 + A[1, 1]**2]])"
      ]
     },
     "execution_count": 28,
     "metadata": {},
     "output_type": "execute_result"
    }
   ],
   "source": [
    "sy.Matrix(A.T@A)"
   ]
  },
  {
   "cell_type": "markdown",
   "id": "9b5ee7dd-e936-429c-83a1-adb6e103d0ce",
   "metadata": {},
   "source": [
    "# Lecture 6: Inverse matrix"
   ]
  },
  {
   "cell_type": "markdown",
   "id": "31effa96-5cbd-4b38-8f8e-55b589726e94",
   "metadata": {},
   "source": [
    "$$ AA^{-1} = A^{-1}A = I $$\n",
    "$$ (AB)^{-1} = B^{-1}A^{-1} $$\n",
    "$$ (A^{T})^{-1} = (A^{-1})^{T} $$"
   ]
  },
  {
   "cell_type": "code",
   "execution_count": 29,
   "id": "3c5c052e-7d24-4598-ac1b-d8129445e246",
   "metadata": {},
   "outputs": [],
   "source": [
    "C = np.hstack((A,B,np.eye(2,2)))"
   ]
  },
  {
   "cell_type": "code",
   "execution_count": 30,
   "id": "01ef9f53-b376-4df0-a52c-1d8deed8088c",
   "metadata": {},
   "outputs": [],
   "source": [
    "M = sy.Matrix(C)"
   ]
  },
  {
   "cell_type": "code",
   "execution_count": 31,
   "id": "3275775b-0b7c-4b36-9824-4693caa8dbe7",
   "metadata": {},
   "outputs": [
    {
     "data": {
      "text/latex": [
       "$\\displaystyle \\left[\\begin{matrix}A_{0, 0} & A_{0, 1} & B_{0, 0} & B_{0, 1} & 1.0 & 0\\\\A_{1, 0} & A_{1, 1} & B_{1, 0} & B_{1, 1} & 0 & 1.0\\end{matrix}\\right]$"
      ],
      "text/plain": [
       "Matrix([\n",
       "[A[0, 0], A[0, 1], B[0, 0], B[0, 1], 1.0,   0],\n",
       "[A[1, 0], A[1, 1], B[1, 0], B[1, 1],   0, 1.0]])"
      ]
     },
     "execution_count": 31,
     "metadata": {},
     "output_type": "execute_result"
    }
   ],
   "source": [
    "M"
   ]
  },
  {
   "cell_type": "code",
   "execution_count": 32,
   "id": "1093a03a-04e3-46f6-99d9-6505eff825a5",
   "metadata": {},
   "outputs": [
    {
     "data": {
      "text/latex": [
       "$\\displaystyle \\left[\\begin{matrix}1 & 0 & \\frac{- A_{0, 1} B_{1, 0} + A_{1, 1} B_{0, 0}}{A_{0, 0} A_{1, 1} - A_{0, 1} A_{1, 0}} & \\frac{- A_{0, 1} B_{1, 1} + A_{1, 1} B_{0, 1}}{A_{0, 0} A_{1, 1} - A_{0, 1} A_{1, 0}} & \\frac{1.0 A_{1, 1}}{1.0 A_{0, 0} A_{1, 1} - 1.0 A_{0, 1} A_{1, 0}} & - \\frac{1.0 A_{0, 1}}{1.0 A_{0, 0} A_{1, 1} - 1.0 A_{0, 1} A_{1, 0}}\\\\0 & 1 & \\frac{A_{0, 0} B_{1, 0} - A_{1, 0} B_{0, 0}}{A_{0, 0} A_{1, 1} - A_{0, 1} A_{1, 0}} & \\frac{A_{0, 0} B_{1, 1} - A_{1, 0} B_{0, 1}}{A_{0, 0} A_{1, 1} - A_{0, 1} A_{1, 0}} & - \\frac{1.0 A_{1, 0}}{1.0 A_{0, 0} A_{1, 1} - 1.0 A_{0, 1} A_{1, 0}} & \\frac{1.0 A_{0, 0}}{A_{0, 0} A_{1, 1} - A_{0, 1} A_{1, 0}}\\end{matrix}\\right]$"
      ],
      "text/plain": [
       "Matrix([\n",
       "[1, 0, (-A[0, 1]*B[1, 0] + A[1, 1]*B[0, 0])/(A[0, 0]*A[1, 1] - A[0, 1]*A[1, 0]), (-A[0, 1]*B[1, 1] + A[1, 1]*B[0, 1])/(A[0, 0]*A[1, 1] - A[0, 1]*A[1, 0]),  1.0*A[1, 1]/(1.0*A[0, 0]*A[1, 1] - 1.0*A[0, 1]*A[1, 0]), -1.0*A[0, 1]/(1.0*A[0, 0]*A[1, 1] - 1.0*A[0, 1]*A[1, 0])],\n",
       "[0, 1,  (A[0, 0]*B[1, 0] - A[1, 0]*B[0, 0])/(A[0, 0]*A[1, 1] - A[0, 1]*A[1, 0]),  (A[0, 0]*B[1, 1] - A[1, 0]*B[0, 1])/(A[0, 0]*A[1, 1] - A[0, 1]*A[1, 0]), -1.0*A[1, 0]/(1.0*A[0, 0]*A[1, 1] - 1.0*A[0, 1]*A[1, 0]),          1.0*A[0, 0]/(A[0, 0]*A[1, 1] - A[0, 1]*A[1, 0])]])"
      ]
     },
     "execution_count": 32,
     "metadata": {},
     "output_type": "execute_result"
    }
   ],
   "source": [
    "M.rref()[0]"
   ]
  },
  {
   "cell_type": "code",
   "execution_count": 33,
   "id": "877a23e9-808b-4094-86f3-149cdbb8fbac",
   "metadata": {},
   "outputs": [
    {
     "data": {
      "text/latex": [
       "$\\displaystyle \\left[\\begin{matrix}\\frac{1.0 A_{1, 1}}{1.0 A_{0, 0} A_{1, 1} - 1.0 A_{0, 1} A_{1, 0}} & - \\frac{1.0 A_{0, 1}}{1.0 A_{0, 0} A_{1, 1} - 1.0 A_{0, 1} A_{1, 0}}\\\\- \\frac{1.0 A_{1, 0}}{1.0 A_{0, 0} A_{1, 1} - 1.0 A_{0, 1} A_{1, 0}} & \\frac{1.0 A_{0, 0}}{A_{0, 0} A_{1, 1} - A_{0, 1} A_{1, 0}}\\end{matrix}\\right]$"
      ],
      "text/plain": [
       "Matrix([\n",
       "[ 1.0*A[1, 1]/(1.0*A[0, 0]*A[1, 1] - 1.0*A[0, 1]*A[1, 0]), -1.0*A[0, 1]/(1.0*A[0, 0]*A[1, 1] - 1.0*A[0, 1]*A[1, 0])],\n",
       "[-1.0*A[1, 0]/(1.0*A[0, 0]*A[1, 1] - 1.0*A[0, 1]*A[1, 0]),          1.0*A[0, 0]/(A[0, 0]*A[1, 1] - A[0, 1]*A[1, 0])]])"
      ]
     },
     "execution_count": 33,
     "metadata": {},
     "output_type": "execute_result"
    }
   ],
   "source": [
    "# the inverse matrix\n",
    "M.rref()[0][:,[4,5]]"
   ]
  },
  {
   "cell_type": "code",
   "execution_count": 34,
   "id": "6cca06b8-6494-417b-9a47-9b4d48daa1e1",
   "metadata": {},
   "outputs": [
    {
     "data": {
      "text/plain": [
       "(0, 1)"
      ]
     },
     "execution_count": 34,
     "metadata": {},
     "output_type": "execute_result"
    }
   ],
   "source": [
    "# pivot columns \n",
    "M.rref()[1]"
   ]
  },
  {
   "cell_type": "markdown",
   "id": "82dbe0df-317b-4a30-8dde-577970486076",
   "metadata": {
    "tags": []
   },
   "source": [
    "## Examples:"
   ]
  },
  {
   "cell_type": "markdown",
   "id": "77b07381-d733-471c-aa95-c366c4451ce3",
   "metadata": {},
   "source": [
    "**Reduced Row Echelon Form (RREF) method:**\n",
    "\n",
    "If we want to find the inverse of $A$, then we can formulate a matrix like this:\n",
    "$$ \\Big ( A | I \\Big ) $$\n",
    "\n",
    "then, if we multiply both side by $A^{-1}$, we will get:\n",
    "$$ \\Big ( I | A^{-1}  \\Big ) $$\n",
    "therefore, what we will do is trying to make the left hand side become an identity matrix and the right hand side is thus the inverse matrix."
   ]
  },
  {
   "cell_type": "code",
   "execution_count": 35,
   "id": "40d4750b-fbe5-4bba-a9d6-81fdf329cbad",
   "metadata": {},
   "outputs": [
    {
     "data": {
      "text/latex": [
       "$\\displaystyle \\left[\\begin{matrix}1 & 0 & 5.0 & -6.0\\\\0 & 1 & -4.0 & 5.0\\end{matrix}\\right]$"
      ],
      "text/plain": [
       "Matrix([\n",
       "[1, 0,  5.0, -6.0],\n",
       "[0, 1, -4.0,  5.0]])"
      ]
     },
     "execution_count": 35,
     "metadata": {},
     "output_type": "execute_result"
    }
   ],
   "source": [
    "A = np.array([[5,6],\n",
    "              [4,5]])\n",
    "\n",
    "tmp = np.hstack((A,np.eye(2,2)))\n",
    "\n",
    "sy.Matrix(tmp).rref()[0]"
   ]
  },
  {
   "cell_type": "code",
   "execution_count": 36,
   "id": "5ccbebfc-52ff-4d96-84c5-61b16c683b70",
   "metadata": {},
   "outputs": [
    {
     "data": {
      "text/latex": [
       "$\\displaystyle \\left[\\begin{matrix}1 & 0 & 0.5 & -0.666666666666667\\\\0 & 1 & -0.5 & 1.0\\end{matrix}\\right]$"
      ],
      "text/plain": [
       "Matrix([\n",
       "[1, 0,  0.5, -0.666666666666667],\n",
       "[0, 1, -0.5,                1.0]])"
      ]
     },
     "execution_count": 36,
     "metadata": {},
     "output_type": "execute_result"
    }
   ],
   "source": [
    "B = np.array([[6,4],\n",
    "              [3,3]])\n",
    "\n",
    "tmp = np.hstack((B,np.eye(2,2)))\n",
    "\n",
    "sy.Matrix(tmp).rref()[0]"
   ]
  },
  {
   "cell_type": "code",
   "execution_count": 37,
   "id": "fa8d8513-3b9e-4a05-b890-9f412a212e25",
   "metadata": {},
   "outputs": [],
   "source": [
    "A = sy.MatrixSymbol(\"A\", 2, 2)\n",
    "B = sy.MatrixSymbol(\"B\", 2, 2)"
   ]
  },
  {
   "cell_type": "code",
   "execution_count": 38,
   "id": "40459377-74c1-47b9-a2cf-55ec2c57d2ec",
   "metadata": {},
   "outputs": [
    {
     "data": {
      "text/latex": [
       "$\\displaystyle \\left[\\begin{matrix}\\frac{A_{1, 1}}{A_{0, 0} A_{1, 1} - A_{0, 1} A_{1, 0}} & - \\frac{A_{0, 1}}{A_{0, 0} A_{1, 1} - A_{0, 1} A_{1, 0}}\\\\- \\frac{A_{1, 0}}{A_{0, 0} A_{1, 1} - A_{0, 1} A_{1, 0}} & \\frac{A_{0, 0}}{A_{0, 0} A_{1, 1} - A_{0, 1} A_{1, 0}}\\end{matrix}\\right]$"
      ],
      "text/plain": [
       "Matrix([\n",
       "[ A[1, 1]/(A[0, 0]*A[1, 1] - A[0, 1]*A[1, 0]), -A[0, 1]/(A[0, 0]*A[1, 1] - A[0, 1]*A[1, 0])],\n",
       "[-A[1, 0]/(A[0, 0]*A[1, 1] - A[0, 1]*A[1, 0]),  A[0, 0]/(A[0, 0]*A[1, 1] - A[0, 1]*A[1, 0])]])"
      ]
     },
     "execution_count": 38,
     "metadata": {},
     "output_type": "execute_result"
    }
   ],
   "source": [
    "sy.Matrix(A).inv()"
   ]
  },
  {
   "cell_type": "markdown",
   "id": "ba20e175-ead0-40f3-9709-466cd0e5541d",
   "metadata": {},
   "source": [
    "**TEST:**\n",
    "$$ (AB)^{-1} = B^{-1}A^{-1} $$"
   ]
  },
  {
   "cell_type": "code",
   "execution_count": 39,
   "id": "868ea3aa-5b91-45c8-9e15-292ed0e6c8ff",
   "metadata": {},
   "outputs": [
    {
     "data": {
      "text/latex": [
       "$\\displaystyle \\left[\\begin{matrix}\\frac{A_{1, 0} B_{0, 1} + A_{1, 1} B_{1, 1}}{A_{0, 0} A_{1, 1} B_{0, 0} B_{1, 1} - A_{0, 0} A_{1, 1} B_{0, 1} B_{1, 0} - A_{0, 1} A_{1, 0} B_{0, 0} B_{1, 1} + A_{0, 1} A_{1, 0} B_{0, 1} B_{1, 0}} & \\frac{- A_{0, 0} B_{0, 1} - A_{0, 1} B_{1, 1}}{A_{0, 0} A_{1, 1} B_{0, 0} B_{1, 1} - A_{0, 0} A_{1, 1} B_{0, 1} B_{1, 0} - A_{0, 1} A_{1, 0} B_{0, 0} B_{1, 1} + A_{0, 1} A_{1, 0} B_{0, 1} B_{1, 0}}\\\\\\frac{- A_{1, 0} B_{0, 0} - A_{1, 1} B_{1, 0}}{A_{0, 0} A_{1, 1} B_{0, 0} B_{1, 1} - A_{0, 0} A_{1, 1} B_{0, 1} B_{1, 0} - A_{0, 1} A_{1, 0} B_{0, 0} B_{1, 1} + A_{0, 1} A_{1, 0} B_{0, 1} B_{1, 0}} & \\frac{A_{0, 0} B_{0, 0} + A_{0, 1} B_{1, 0}}{A_{0, 0} A_{1, 1} B_{0, 0} B_{1, 1} - A_{0, 0} A_{1, 1} B_{0, 1} B_{1, 0} - A_{0, 1} A_{1, 0} B_{0, 0} B_{1, 1} + A_{0, 1} A_{1, 0} B_{0, 1} B_{1, 0}}\\end{matrix}\\right]$"
      ],
      "text/plain": [
       "Matrix([\n",
       "[ (A[1, 0]*B[0, 1] + A[1, 1]*B[1, 1])/(A[0, 0]*A[1, 1]*B[0, 0]*B[1, 1] - A[0, 0]*A[1, 1]*B[0, 1]*B[1, 0] - A[0, 1]*A[1, 0]*B[0, 0]*B[1, 1] + A[0, 1]*A[1, 0]*B[0, 1]*B[1, 0]), (-A[0, 0]*B[0, 1] - A[0, 1]*B[1, 1])/(A[0, 0]*A[1, 1]*B[0, 0]*B[1, 1] - A[0, 0]*A[1, 1]*B[0, 1]*B[1, 0] - A[0, 1]*A[1, 0]*B[0, 0]*B[1, 1] + A[0, 1]*A[1, 0]*B[0, 1]*B[1, 0])],\n",
       "[(-A[1, 0]*B[0, 0] - A[1, 1]*B[1, 0])/(A[0, 0]*A[1, 1]*B[0, 0]*B[1, 1] - A[0, 0]*A[1, 1]*B[0, 1]*B[1, 0] - A[0, 1]*A[1, 0]*B[0, 0]*B[1, 1] + A[0, 1]*A[1, 0]*B[0, 1]*B[1, 0]),  (A[0, 0]*B[0, 0] + A[0, 1]*B[1, 0])/(A[0, 0]*A[1, 1]*B[0, 0]*B[1, 1] - A[0, 0]*A[1, 1]*B[0, 1]*B[1, 0] - A[0, 1]*A[1, 0]*B[0, 0]*B[1, 1] + A[0, 1]*A[1, 0]*B[0, 1]*B[1, 0])]])"
      ]
     },
     "execution_count": 39,
     "metadata": {},
     "output_type": "execute_result"
    }
   ],
   "source": [
    "sy.Matrix(A@B).inv()"
   ]
  },
  {
   "cell_type": "code",
   "execution_count": 40,
   "id": "0ae30fa9-33e4-462c-9ab3-4833d9307f62",
   "metadata": {},
   "outputs": [
    {
     "data": {
      "text/latex": [
       "$\\displaystyle \\left[\\begin{matrix}\\frac{A_{1, 0} B_{0, 1}}{\\left(A_{0, 0} A_{1, 1} - A_{0, 1} A_{1, 0}\\right) \\left(B_{0, 0} B_{1, 1} - B_{0, 1} B_{1, 0}\\right)} + \\frac{A_{1, 1} B_{1, 1}}{\\left(A_{0, 0} A_{1, 1} - A_{0, 1} A_{1, 0}\\right) \\left(B_{0, 0} B_{1, 1} - B_{0, 1} B_{1, 0}\\right)} & - \\frac{A_{0, 0} B_{0, 1}}{\\left(A_{0, 0} A_{1, 1} - A_{0, 1} A_{1, 0}\\right) \\left(B_{0, 0} B_{1, 1} - B_{0, 1} B_{1, 0}\\right)} - \\frac{A_{0, 1} B_{1, 1}}{\\left(A_{0, 0} A_{1, 1} - A_{0, 1} A_{1, 0}\\right) \\left(B_{0, 0} B_{1, 1} - B_{0, 1} B_{1, 0}\\right)}\\\\- \\frac{A_{1, 0} B_{0, 0}}{\\left(A_{0, 0} A_{1, 1} - A_{0, 1} A_{1, 0}\\right) \\left(B_{0, 0} B_{1, 1} - B_{0, 1} B_{1, 0}\\right)} - \\frac{A_{1, 1} B_{1, 0}}{\\left(A_{0, 0} A_{1, 1} - A_{0, 1} A_{1, 0}\\right) \\left(B_{0, 0} B_{1, 1} - B_{0, 1} B_{1, 0}\\right)} & \\frac{A_{0, 0} B_{0, 0}}{\\left(A_{0, 0} A_{1, 1} - A_{0, 1} A_{1, 0}\\right) \\left(B_{0, 0} B_{1, 1} - B_{0, 1} B_{1, 0}\\right)} + \\frac{A_{0, 1} B_{1, 0}}{\\left(A_{0, 0} A_{1, 1} - A_{0, 1} A_{1, 0}\\right) \\left(B_{0, 0} B_{1, 1} - B_{0, 1} B_{1, 0}\\right)}\\end{matrix}\\right]$"
      ],
      "text/plain": [
       "Matrix([\n",
       "[ A[1, 0]*B[0, 1]/((A[0, 0]*A[1, 1] - A[0, 1]*A[1, 0])*(B[0, 0]*B[1, 1] - B[0, 1]*B[1, 0])) + A[1, 1]*B[1, 1]/((A[0, 0]*A[1, 1] - A[0, 1]*A[1, 0])*(B[0, 0]*B[1, 1] - B[0, 1]*B[1, 0])), -A[0, 0]*B[0, 1]/((A[0, 0]*A[1, 1] - A[0, 1]*A[1, 0])*(B[0, 0]*B[1, 1] - B[0, 1]*B[1, 0])) - A[0, 1]*B[1, 1]/((A[0, 0]*A[1, 1] - A[0, 1]*A[1, 0])*(B[0, 0]*B[1, 1] - B[0, 1]*B[1, 0]))],\n",
       "[-A[1, 0]*B[0, 0]/((A[0, 0]*A[1, 1] - A[0, 1]*A[1, 0])*(B[0, 0]*B[1, 1] - B[0, 1]*B[1, 0])) - A[1, 1]*B[1, 0]/((A[0, 0]*A[1, 1] - A[0, 1]*A[1, 0])*(B[0, 0]*B[1, 1] - B[0, 1]*B[1, 0])),  A[0, 0]*B[0, 0]/((A[0, 0]*A[1, 1] - A[0, 1]*A[1, 0])*(B[0, 0]*B[1, 1] - B[0, 1]*B[1, 0])) + A[0, 1]*B[1, 0]/((A[0, 0]*A[1, 1] - A[0, 1]*A[1, 0])*(B[0, 0]*B[1, 1] - B[0, 1]*B[1, 0]))]])"
      ]
     },
     "execution_count": 40,
     "metadata": {},
     "output_type": "execute_result"
    }
   ],
   "source": [
    "sy.Matrix(B).inv() @ sy.Matrix(A).inv()"
   ]
  },
  {
   "cell_type": "markdown",
   "id": "d2966d5c-e91e-449b-8f86-970fc4038e69",
   "metadata": {},
   "source": [
    "**TEST:**\n",
    "$$ (A^{T})^{-1} = (A^{-1})^{T} $$"
   ]
  },
  {
   "cell_type": "code",
   "execution_count": 41,
   "id": "3e2351ac-19d6-4004-8037-0d057085e74e",
   "metadata": {},
   "outputs": [
    {
     "data": {
      "text/latex": [
       "$\\displaystyle \\left[\\begin{matrix}\\frac{A_{1, 1}}{A_{0, 0} A_{1, 1} - A_{0, 1} A_{1, 0}} & - \\frac{A_{1, 0}}{A_{0, 0} A_{1, 1} - A_{0, 1} A_{1, 0}}\\\\- \\frac{A_{0, 1}}{A_{0, 0} A_{1, 1} - A_{0, 1} A_{1, 0}} & \\frac{A_{0, 0}}{A_{0, 0} A_{1, 1} - A_{0, 1} A_{1, 0}}\\end{matrix}\\right]$"
      ],
      "text/plain": [
       "Matrix([\n",
       "[ A[1, 1]/(A[0, 0]*A[1, 1] - A[0, 1]*A[1, 0]), -A[1, 0]/(A[0, 0]*A[1, 1] - A[0, 1]*A[1, 0])],\n",
       "[-A[0, 1]/(A[0, 0]*A[1, 1] - A[0, 1]*A[1, 0]),  A[0, 0]/(A[0, 0]*A[1, 1] - A[0, 1]*A[1, 0])]])"
      ]
     },
     "execution_count": 41,
     "metadata": {},
     "output_type": "execute_result"
    }
   ],
   "source": [
    "sy.Matrix(A).T.inv()"
   ]
  },
  {
   "cell_type": "code",
   "execution_count": 42,
   "id": "b95478e4-5f2d-4c50-9b33-5414d15d6df6",
   "metadata": {},
   "outputs": [
    {
     "data": {
      "text/latex": [
       "$\\displaystyle \\left[\\begin{matrix}\\frac{A_{1, 1}}{A_{0, 0} A_{1, 1} - A_{0, 1} A_{1, 0}} & - \\frac{A_{1, 0}}{A_{0, 0} A_{1, 1} - A_{0, 1} A_{1, 0}}\\\\- \\frac{A_{0, 1}}{A_{0, 0} A_{1, 1} - A_{0, 1} A_{1, 0}} & \\frac{A_{0, 0}}{A_{0, 0} A_{1, 1} - A_{0, 1} A_{1, 0}}\\end{matrix}\\right]$"
      ],
      "text/plain": [
       "Matrix([\n",
       "[ A[1, 1]/(A[0, 0]*A[1, 1] - A[0, 1]*A[1, 0]), -A[1, 0]/(A[0, 0]*A[1, 1] - A[0, 1]*A[1, 0])],\n",
       "[-A[0, 1]/(A[0, 0]*A[1, 1] - A[0, 1]*A[1, 0]),  A[0, 0]/(A[0, 0]*A[1, 1] - A[0, 1]*A[1, 0])]])"
      ]
     },
     "execution_count": 42,
     "metadata": {},
     "output_type": "execute_result"
    }
   ],
   "source": [
    "sy.Matrix(A).inv().T"
   ]
  },
  {
   "cell_type": "markdown",
   "id": "7ac87d94-675a-4c1e-9e8f-dbd57e3f4268",
   "metadata": {},
   "source": [
    "# Lecture 7: Orthogonal matrices"
   ]
  },
  {
   "cell_type": "markdown",
   "id": "fbfd3e36-d1a3-4150-99b9-dfbffe6bba29",
   "metadata": {},
   "source": [
    "## What are orthogonal matrices?\n",
    "\n",
    "Orthogonal matrix is a matrix that satisfy the equations below:\n",
    "$$ QQ^{T} = I $$\n",
    "$$ Q^{T}Q = I $$\n",
    "which are basically saying that $Q^{-1} = Q^{T}$."
   ]
  },
  {
   "cell_type": "markdown",
   "id": "fb671de2-e68e-461d-9d14-f26c9a08ee9d",
   "metadata": {},
   "source": [
    "**A property of orthogonal matrix is that: orthogonal matrix preserves lengths**.\n",
    "\n",
    "**Proof:**\n",
    "\n",
    "$$ (Qx)^{T}(Qx) = ||Qx||^{2} = x^{T}Q^{T}Qx = x^{T}x = ||x||^{2}$$\n"
   ]
  },
  {
   "cell_type": "markdown",
   "id": "680bbe59-24e0-4b7b-a9c7-e2f083cde035",
   "metadata": {},
   "source": [
    "# Lecture 8: Rotation matrices \n",
    "\n",
    "Rotation matrix $A$ is a design matrix that **only** rotates a vector $x$ without changing its length.\n",
    "$$Ax = x^{'}$$\n",
    "where \n",
    "$$||x||_{2} = ||x^{'}||_{2}$$"
   ]
  },
  {
   "cell_type": "markdown",
   "id": "3b07577b-a1e3-4066-bd4c-45f3ca9fe829",
   "metadata": {},
   "source": [
    "A $2x2$ rotation matrix can be designed as: \n",
    "$$A = \\begin{pmatrix}\n",
    "cos(\\theta) & -sin(\\theta) \\\\\n",
    "sin(\\theta) & cos(\\theta) \\\\\n",
    "\\end{pmatrix}\n",
    "$$\n",
    "which is an orthonormal matrix."
   ]
  },
  {
   "cell_type": "markdown",
   "id": "ee82ecf0-ac37-49c2-92c3-907cb155fbe3",
   "metadata": {},
   "source": [
    "# Lecture 9: Permutation matrices "
   ]
  },
  {
   "cell_type": "markdown",
   "id": "89556f67-0b09-480f-ac53-f039f2c926ba",
   "metadata": {},
   "source": [
    "Another type of orthogonal matrix is a permutation matrix. A permutation matrix, when multiplying on the left, permutes the rows of a matrix, and when multiplying on the right, permutes the columns. \n",
    "\n",
    "Note that the permutation matrix $P$ is obtained by permuting the corresponding rows of the identity matrix, which can be explained by:\n",
    "$$PA = (PI)A$$\n",
    "\n",
    "For example, \n",
    "$$\\begin{pmatrix}\n",
    "0 & 1 \\\\\n",
    "1 & 0 \\\\ \n",
    "\\end{pmatrix} \n",
    "\\begin{pmatrix} \n",
    "a & b \\\\\n",
    "c & d \\\\ \n",
    "\\end{pmatrix}= \\begin{pmatrix}\n",
    "c & d \\\\ \n",
    "a & b \\\\ \n",
    "\\end{pmatrix}\n",
    "$$"
   ]
  },
  {
   "cell_type": "code",
   "execution_count": 43,
   "id": "32cc0ebd-7047-4ccf-986a-dac3c76d31e9",
   "metadata": {},
   "outputs": [
    {
     "data": {
      "text/latex": [
       "$\\displaystyle \\left[\\begin{array}{ccc}P_{0, 0} & P_{0, 1} & P_{0, 2}\\\\P_{1, 0} & P_{1, 1} & P_{1, 2}\\\\P_{2, 0} & P_{2, 1} & P_{2, 2}\\end{array}\\right]$"
      ],
      "text/plain": [
       "Matrix([\n",
       "[P[0, 0], P[0, 1], P[0, 2]],\n",
       "[P[1, 0], P[1, 1], P[1, 2]],\n",
       "[P[2, 0], P[2, 1], P[2, 2]]])"
      ]
     },
     "execution_count": 43,
     "metadata": {},
     "output_type": "execute_result"
    }
   ],
   "source": [
    "A = sy.MatrixSymbol(\"P\", 3,3)\n",
    "sy.Matrix(A)"
   ]
  },
  {
   "cell_type": "code",
   "execution_count": 44,
   "id": "2a128f32-ed6b-4cbe-82f7-c4d03e656712",
   "metadata": {},
   "outputs": [],
   "source": [
    "P = np.array([[1, 0, 0],\n",
    "              [0, 0, 1], \n",
    "              [0, 1, 0]])"
   ]
  },
  {
   "cell_type": "code",
   "execution_count": 45,
   "id": "7e0cf85f-fde2-44fa-8b31-754e4ebef09d",
   "metadata": {},
   "outputs": [
    {
     "data": {
      "text/latex": [
       "$\\displaystyle \\left[\\begin{matrix}P_{0, 0} & P_{0, 1} & P_{0, 2}\\\\P_{2, 0} & P_{2, 1} & P_{2, 2}\\\\P_{1, 0} & P_{1, 1} & P_{1, 2}\\end{matrix}\\right]$"
      ],
      "text/plain": [
       "Matrix([\n",
       "[P[0, 0], P[0, 1], P[0, 2]],\n",
       "[P[2, 0], P[2, 1], P[2, 2]],\n",
       "[P[1, 0], P[1, 1], P[1, 2]]])"
      ]
     },
     "execution_count": 45,
     "metadata": {},
     "output_type": "execute_result"
    }
   ],
   "source": [
    "# permuting 2nd and 3rd rows\n",
    "sy.Matrix(P@A)"
   ]
  },
  {
   "cell_type": "code",
   "execution_count": 46,
   "id": "c935ebdf-c8b7-4715-9ffc-0e3cfa9e99c6",
   "metadata": {},
   "outputs": [
    {
     "data": {
      "text/latex": [
       "$\\displaystyle \\left[\\begin{matrix}P_{0, 0} & P_{0, 2} & P_{0, 1}\\\\P_{1, 0} & P_{1, 2} & P_{1, 1}\\\\P_{2, 0} & P_{2, 2} & P_{2, 1}\\end{matrix}\\right]$"
      ],
      "text/plain": [
       "Matrix([\n",
       "[P[0, 0], P[0, 2], P[0, 1]],\n",
       "[P[1, 0], P[1, 2], P[1, 1]],\n",
       "[P[2, 0], P[2, 2], P[2, 1]]])"
      ]
     },
     "execution_count": 46,
     "metadata": {},
     "output_type": "execute_result"
    }
   ],
   "source": [
    "# permuting 2nd and 3rd columns\n",
    "sy.Matrix(A@P)"
   ]
  },
  {
   "cell_type": "code",
   "execution_count": null,
   "id": "07ab83df-fea0-40ed-9639-193932e21d41",
   "metadata": {},
   "outputs": [],
   "source": []
  }
 ],
 "metadata": {
  "kernelspec": {
   "display_name": "Python 3 (ipykernel)",
   "language": "python",
   "name": "python3"
  },
  "language_info": {
   "codemirror_mode": {
    "name": "ipython",
    "version": 3
   },
   "file_extension": ".py",
   "mimetype": "text/x-python",
   "name": "python",
   "nbconvert_exporter": "python",
   "pygments_lexer": "ipython3",
   "version": "3.8.10"
  },
  "toc-autonumbering": true
 },
 "nbformat": 4,
 "nbformat_minor": 5
}
